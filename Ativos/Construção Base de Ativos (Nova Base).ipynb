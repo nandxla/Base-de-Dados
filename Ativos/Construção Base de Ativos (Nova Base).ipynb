{
 "cells": [
  {
   "cell_type": "code",
   "execution_count": 135,
   "metadata": {},
   "outputs": [],
   "source": [
    "import pandas as pd\n",
    "import numpy as np"
   ]
  },
  {
   "cell_type": "markdown",
   "metadata": {},
   "source": [
    "# Importação e Cópia\n",
    "Estou importando os dados diretamente do Gsheet, e na célula seguinte fazendo a cópia dos dataframes. A cópia serve para não ter o trabalho de importar dataframe da nuvem novamente."
   ]
  },
  {
   "cell_type": "code",
   "execution_count": 136,
   "metadata": {},
   "outputs": [
    {
     "name": "stderr",
     "output_type": "stream",
     "text": [
      "c:\\Users\\fernando.luiz\\AppData\\Local\\anaconda3\\Lib\\site-packages\\openpyxl\\worksheet\\_read_only.py:79: UserWarning: Cell E1954 is marked as a date but the serial value 6692727.0 is outside the limits for dates. The cell will be treated as an error.\n",
      "  for idx, row in parser.parse():\n"
     ]
    }
   ],
   "source": [
    "DF_COMPRAS_2024 = pd.read_excel(\n",
    "    \"https://docs.google.com/spreadsheets/d/117UmGO31yywC6mucCwMFPmnQcg1kRI5WVRR1Cvpb6l8/export?format=xlsx&id=117UmGO31yywC6mucCwMFPmnQcg1kRI5WVRR1Cvpb6l8\",\n",
    "    sheet_name=\"Lançamento de NF Não Recorrente\",\n",
    "    usecols=[\n",
    "        \"Marca\",\n",
    "        \"Unidade\",\n",
    "        \"Valor Corrigido\",\n",
    "        \"Mês Corrigido\",\n",
    "    ]\n",
    ")\n",
    "\n",
    "DF_DE_PARA_OFC = pd.read_excel(\n",
    "    'https://docs.google.com/spreadsheets/d/1FXJHfBeenCm7kDq-3SpJjuuBY0nXZ2xF-6DTK2HQyaQ/export?=format=xlsx&id=1FXJHfBeenCm7kDq-3SpJjuuBY0nXZ2xF-6DTK2HQyaQ', \n",
    "    sheet_name=\"Unidades\",\n",
    "    usecols=[\n",
    "        \"Chave 2024\",\n",
    "        \"Marca 2024\",\n",
    "        \"Unidade 2024\"\n",
    "    ]\n",
    ")"
   ]
  },
  {
   "cell_type": "code",
   "execution_count": 137,
   "metadata": {},
   "outputs": [],
   "source": [
    "DF_COMPRAS_2024_COPY = DF_COMPRAS_2024.copy()\n",
    "DF_DE_PARA_OFC_COPY = DF_DE_PARA_OFC.copy()"
   ]
  },
  {
   "cell_type": "markdown",
   "metadata": {},
   "source": [
    "# Correção do Mês\n",
    "Aqui estou covertendo os meses faltantes pelo mês atual, e não só isso, convertendo os valores para inteiro."
   ]
  },
  {
   "cell_type": "code",
   "execution_count": 138,
   "metadata": {},
   "outputs": [],
   "source": [
    "from datetime import datetime\n",
    "\n",
    "DF_COMPRAS_2024_COPY[\"Mês Corrigido\"] = pd.to_numeric(DF_COMPRAS_2024_COPY[\"Mês Corrigido\"], \"coerce\")\n",
    "DF_COMPRAS_2024_COPY[\"Mês Corrigido\"] = DF_COMPRAS_2024_COPY[\"Mês Corrigido\"].fillna(0)\n",
    "DF_COMPRAS_2024_COPY[\"Mês Corrigido\"] = DF_COMPRAS_2024_COPY[\"Mês Corrigido\"].astype(\"int\")\n",
    "DF_COMPRAS_2024_COPY.loc[DF_COMPRAS_2024_COPY[\"Mês Corrigido\"] == 0, \"Mês Corrigido\"] = datetime.now().month"
   ]
  },
  {
   "cell_type": "markdown",
   "metadata": {},
   "source": [
    "# Correção de Marca e Unidade\n",
    "Agora, vamos atualizar a marca e unidade para os nomes de 2024, nesse processo estou fazendo:\n",
    "- Retirandos os dados faltantes\n",
    "- Aplicando função ```stip()``` na Marca e Unidade, para retirar os espaços em branco\n",
    "- Criando uma coluna apenas com a Unidade\n",
    "- Criando a Chave 2024\n",
    "- Aplicando o DePara e puxando as Marcas e Unidades atualizadas"
   ]
  },
  {
   "cell_type": "code",
   "execution_count": 139,
   "metadata": {},
   "outputs": [],
   "source": [
    "DF_COMPRAS_2024_COPY = DF_COMPRAS_2024_COPY[DF_COMPRAS_2024_COPY[\"Marca\"].notna()]\n",
    "DF_COMPRAS_2024_COPY = DF_COMPRAS_2024_COPY[DF_COMPRAS_2024_COPY[\"Unidade\"].notna()]\n",
    "\n",
    "DF_DE_PARA_OFC_COPY = DF_DE_PARA_OFC_COPY[DF_DE_PARA_OFC_COPY[\"Chave 2024\"].notna()]\n",
    "DF_DE_PARA_OFC_COPY = DF_DE_PARA_OFC_COPY.drop_duplicates()\n",
    "\n",
    "DF_COMPRAS_2024_COPY[\"Marca\"] = DF_COMPRAS_2024_COPY.apply(lambda x: x[\"Marca\"].strip(), axis=1)\n",
    "DF_COMPRAS_2024_COPY[\"Unidade\"] = DF_COMPRAS_2024_COPY.apply(lambda x: x[\"Unidade\"].strip(), axis=1)\n",
    "\n",
    "DF_COMPRAS_2024_COPY[\"Unidade Atualizada\"] = DF_COMPRAS_2024_COPY.apply(lambda row: row[\"Unidade\"].replace(f\"{row['Marca']} \", \"\"), axis=1)\n",
    "DF_COMPRAS_2024_COPY[\"Chave 2024\"] = DF_COMPRAS_2024_COPY[\"Marca\"] + DF_COMPRAS_2024_COPY[\"Unidade Atualizada\"] \n",
    "\n",
    "DF_COMPRAS_2024_COPY = DF_COMPRAS_2024_COPY.loc[(DF_COMPRAS_2024_COPY[\"Marca\"] != \"NUs\")]\n",
    "DF_COMPRAS_2024_COPY = DF_COMPRAS_2024_COPY.loc[(DF_COMPRAS_2024_COPY[\"Marca\"] != \"Visita BE\")]\n",
    "DF_COMPRAS_2024_COPY = DF_COMPRAS_2024_COPY.loc[(DF_COMPRAS_2024_COPY[\"Marca\"] != \"Salta\")]\n",
    "\n",
    "DF_COMPRAS_2024_DE_PARA = pd.merge(DF_COMPRAS_2024_COPY, DF_DE_PARA_OFC_COPY, on=\"Chave 2024\", how=\"left\")"
   ]
  },
  {
   "cell_type": "code",
   "execution_count": 140,
   "metadata": {},
   "outputs": [
    {
     "data": {
      "text/plain": [
       "10777449.23"
      ]
     },
     "execution_count": 140,
     "metadata": {},
     "output_type": "execute_result"
    }
   ],
   "source": [
    "DF_COMPRAS_2024_DE_PARA[\"Valor Corrigido\"].sum()"
   ]
  },
  {
   "cell_type": "markdown",
   "metadata": {},
   "source": [
    "# Dividindo o DataFrame\n",
    "Nesse momento estou divindo meu DataFrame em dois, um com os erros, no qual vou tratar e unir novamente ao dataset original."
   ]
  },
  {
   "cell_type": "code",
   "execution_count": 141,
   "metadata": {},
   "outputs": [],
   "source": [
    "DF_ERROS = DF_COMPRAS_2024_DE_PARA[DF_COMPRAS_2024_DE_PARA[\"Marca 2024\"].isna()]\n",
    "DF_COMPRAS_2024_DE_PARA = DF_COMPRAS_2024_DE_PARA[DF_COMPRAS_2024_DE_PARA[\"Marca 2024\"].notna()]"
   ]
  },
  {
   "cell_type": "code",
   "execution_count": 142,
   "metadata": {},
   "outputs": [],
   "source": [
    "DF_ERROS[\"Marca\"] = DF_ERROS.apply(lambda x: x[\"Unidade\"].split(\" \")[0], axis=1)\n",
    "\n",
    "DF_ERROS[\"Unidade Atualizada\"] = DF_ERROS.apply(lambda row: row[\"Unidade\"].replace(f\"{row['Marca']} \", \"\"), axis=1)\n",
    "DF_ERROS[\"Chave 2024\"] = DF_ERROS[\"Marca\"] + DF_ERROS[\"Unidade Atualizada\"]\n",
    "DF_ERROS.drop(columns=[\n",
    "    \"Marca 2024\",\n",
    "    \"Unidade 2024\",\n",
    "], inplace=True)\n",
    "\n",
    "DF_ERROS = pd.merge(DF_ERROS, DF_DE_PARA_OFC_COPY, on=\"Chave 2024\", how=\"left\")"
   ]
  },
  {
   "cell_type": "markdown",
   "metadata": {},
   "source": [
    "# Unindo as Bases de Dados"
   ]
  },
  {
   "cell_type": "code",
   "execution_count": 143,
   "metadata": {},
   "outputs": [],
   "source": [
    "DF_COMPRAS_2024_DE_PARA = DF_COMPRAS_2024_DE_PARA[[\n",
    "    \"Marca 2024\",\n",
    "    \"Unidade 2024\",\n",
    "    \"Valor Corrigido\",\n",
    "    \"Mês Corrigido\",\n",
    "]]\n",
    "\n",
    "DF_COMPRAS_2024_DE_PARA[\"Ano\"] = 2024\n",
    "DF_COMPRAS_2024_DE_PARA[\"NO\"] = \"Ativos\"\n",
    "DF_COMPRAS_2024_DE_PARA[\"Categoria\"] = \"Supply\"\n",
    "DF_COMPRAS_2024_DE_PARA[\"Tipo Valor\"] = \"Capex\"\n",
    "DF_COMPRAS_2024_DE_PARA[\"Tipo\"] = \"Real\"\n",
    "\n",
    "DF_ERROS_ATUALIZADOS = DF_ERROS[DF_ERROS[\"Marca 2024\"].notna()]\n",
    "DF_ERROS_ATUALIZADOS = DF_ERROS_ATUALIZADOS[[\n",
    "    \"Marca 2024\",\n",
    "    \"Unidade 2024\",\n",
    "    \"Valor Corrigido\",\n",
    "    \"Mês Corrigido\"\n",
    "]]\n",
    "\n",
    "DF_ERROS_ATUALIZADOS[\"Ano\"] = 2024\n",
    "DF_ERROS_ATUALIZADOS[\"NO\"] = \"Ativos\"\n",
    "DF_ERROS_ATUALIZADOS[\"Categoria\"] = \"Supply\"\n",
    "DF_ERROS_ATUALIZADOS[\"Tipo Valor\"] = \"Capex\"\n",
    "DF_ERROS_ATUALIZADOS[\"Tipo\"] = \"Real\"\n",
    "\n",
    "DF_COMPRAS_2024_DE_PARA = DF_COMPRAS_2024_DE_PARA[[\n",
    "    \"Valor Corrigido\",\n",
    "    \"Marca 2024\",\n",
    "    \"Unidade 2024\",\n",
    "    \"Ano\",\n",
    "    \"NO\",\n",
    "    \"Categoria\",\n",
    "    \"Tipo Valor\",\n",
    "    \"Tipo\",\n",
    "    \"Mês Corrigido\",\n",
    "]]\n",
    "\n",
    "DF_ERROS_ATUALIZADOS = DF_ERROS_ATUALIZADOS[[\n",
    "    \"Valor Corrigido\",\n",
    "    \"Marca 2024\",\n",
    "    \"Unidade 2024\",\n",
    "    \"Ano\",\n",
    "    \"NO\",\n",
    "    \"Categoria\",\n",
    "    \"Tipo Valor\",\n",
    "    \"Tipo\",\n",
    "    \"Mês Corrigido\",\n",
    "]]"
   ]
  },
  {
   "cell_type": "code",
   "execution_count": 144,
   "metadata": {},
   "outputs": [
    {
     "data": {
      "text/plain": [
       "10767630.23"
      ]
     },
     "execution_count": 144,
     "metadata": {},
     "output_type": "execute_result"
    }
   ],
   "source": [
    "DF_ATIVOS = pd.concat([DF_COMPRAS_2024_DE_PARA, DF_ERROS_ATUALIZADOS], axis=0)\n",
    "DF_ATIVOS[\"Valor Corrigido\"].sum() "
   ]
  },
  {
   "cell_type": "code",
   "execution_count": 145,
   "metadata": {},
   "outputs": [],
   "source": [
    "ATIVOS_ANTIGO = pd.read_excel(\"Ativos até Abril.xlsx\")\n",
    "DF_ATIVOS = DF_ATIVOS.rename(columns={\n",
    "    \"Mês Corrigido\": \"Mês\",\n",
    "    \"Valor Corrigido\": \"Valor\",\n",
    "})\n",
    "\n",
    "DF_ATIVOS = pd.concat([ATIVOS_ANTIGO, DF_ATIVOS], axis=0)\n",
    "DF_ATIVOS.to_excel(\"Ativos 2024 (Padronizado).xlsx\", index=False)"
   ]
  }
 ],
 "metadata": {
  "kernelspec": {
   "display_name": "base",
   "language": "python",
   "name": "python3"
  },
  "language_info": {
   "codemirror_mode": {
    "name": "ipython",
    "version": 3
   },
   "file_extension": ".py",
   "mimetype": "text/x-python",
   "name": "python",
   "nbconvert_exporter": "python",
   "pygments_lexer": "ipython3",
   "version": "3.11.5"
  }
 },
 "nbformat": 4,
 "nbformat_minor": 2
}

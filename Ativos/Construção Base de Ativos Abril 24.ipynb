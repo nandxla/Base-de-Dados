{
 "cells": [
  {
   "cell_type": "code",
   "execution_count": 2,
   "id": "initial_id",
   "metadata": {
    "ExecuteTime": {
     "end_time": "2024-07-23T13:42:36.935889Z",
     "start_time": "2024-07-23T13:42:17.701935Z"
    },
    "collapsed": true
   },
   "outputs": [],
   "source": [
    "import pandas as pd\n",
    "import numpy as np"
   ]
  },
  {
   "cell_type": "markdown",
   "id": "cba7a92c627dd67a",
   "metadata": {},
   "source": [
    "# Construção da Base de Ativos até Abril 2024\n",
    "Aqui está o tratamento da base de ativos, até abril de 2024, essa base não é mais usada."
   ]
  },
  {
   "cell_type": "code",
   "execution_count": 3,
   "id": "60dda80a02acfe6",
   "metadata": {
    "ExecuteTime": {
     "end_time": "2024-07-23T13:52:56.989491Z",
     "start_time": "2024-07-23T13:51:59.316395Z"
    }
   },
   "outputs": [],
   "source": [
    "DF_ATIVOS = pd.read_excel('https://docs.google.com/spreadsheets/d/1sdgIMgG3j4bUI671U5iADaJW18L9e55SgtFRgj1AW10/export?=download', sheet_name=\"Resumo Ativos\")\n",
    "DF_DE_PARA_OFC = pd.read_excel('https://docs.google.com/spreadsheets/d/1FXJHfBeenCm7kDq-3SpJjuuBY0nXZ2xF-6DTK2HQyaQ/export?=download', sheet_name=\"Unidades\")"
   ]
  },
  {
   "cell_type": "code",
   "execution_count": 4,
   "id": "7c10f8255f3b6654",
   "metadata": {
    "ExecuteTime": {
     "end_time": "2024-07-23T15:02:29.579704Z",
     "start_time": "2024-07-23T15:02:29.560366Z"
    }
   },
   "outputs": [],
   "source": [
    "DF_ATIVOS_COPY = DF_ATIVOS.copy()\n",
    "DF_ATIVOS_COPY = DF_ATIVOS_COPY.iloc[1:]\n",
    "\n",
    "DF_DE_PARA_OFC_COPY = DF_DE_PARA_OFC.copy()\n",
    "DF_DE_PARA_OFC_COPY = DF_DE_PARA_OFC_COPY[[\n",
    "    \"Chave 2024\", \n",
    "    \"Marca 2024\", \n",
    "    \"Unidade 2024\"\n",
    "]]"
   ]
  },
  {
   "cell_type": "code",
   "execution_count": 5,
   "id": "d9188cbd851697e6",
   "metadata": {
    "ExecuteTime": {
     "end_time": "2024-07-23T15:02:30.557634Z",
     "start_time": "2024-07-23T15:02:30.544281Z"
    }
   },
   "outputs": [],
   "source": [
    "DF_ATIVOS_COPY[\"Unidade\"] = DF_ATIVOS_COPY.apply(lambda row: row[\"Unidades\"].replace(f\"{row['Marca']} \", \"\"), axis=1)\n",
    "DF_ATIVOS_COPY[\"Unidade\"] = DF_ATIVOS_COPY[\"Unidade\"] \\\n",
    "                                .str.replace(\"SP \", \"\") \\\n",
    "                                .str.replace(\"- \", \"\") \\\n",
    "                                .str.replace(\"MG \", \"\")"
   ]
  },
  {
   "cell_type": "code",
   "execution_count": 6,
   "id": "f8de87629d6858a3",
   "metadata": {
    "ExecuteTime": {
     "end_time": "2024-07-23T15:02:31.211836Z",
     "start_time": "2024-07-23T15:02:31.198213Z"
    }
   },
   "outputs": [],
   "source": [
    "DF_ATIVOS_COPY[\"Ano\"] = 2024\n",
    "DF_ATIVOS_COPY[\"NO\"] = \"Ativos\"\n",
    "DF_ATIVOS_COPY[\"Categoria\"] = \"Supply\"\n",
    "DF_ATIVOS_COPY[\"Tipo Valor\"] = \"Capex\"\n",
    "DF_ATIVOS_COPY[\"Tipo\"] = \"Real\"\n",
    "\n",
    "terco = len(DF_ATIVOS_COPY) // 3\n",
    "DF_ATIVOS_COPY.loc[:terco-1, \"Mês\"] = 1\n",
    "DF_ATIVOS_COPY.loc[terco:2*terco-1, \"Mês\"] = 2\n",
    "DF_ATIVOS_COPY.loc[2*terco:, \"Mês\"] = 3\n",
    "\n",
    "DF_ATIVOS_COPY.rename(columns={\n",
    "    \"Orçamento Aprovado\": \"Valor\"\n",
    "}, inplace=True)"
   ]
  },
  {
   "cell_type": "code",
   "execution_count": 7,
   "id": "579196fafb0c90f7",
   "metadata": {
    "ExecuteTime": {
     "end_time": "2024-07-23T14:44:07.468540Z",
     "start_time": "2024-07-23T14:44:07.456797Z"
    }
   },
   "outputs": [
    {
     "data": {
      "text/html": [
       "<div>\n",
       "<style scoped>\n",
       "    .dataframe tbody tr th:only-of-type {\n",
       "        vertical-align: middle;\n",
       "    }\n",
       "\n",
       "    .dataframe tbody tr th {\n",
       "        vertical-align: top;\n",
       "    }\n",
       "\n",
       "    .dataframe thead th {\n",
       "        text-align: right;\n",
       "    }\n",
       "</style>\n",
       "<table border=\"1\" class=\"dataframe\">\n",
       "  <thead>\n",
       "    <tr style=\"text-align: right;\">\n",
       "      <th></th>\n",
       "      <th>Marca</th>\n",
       "      <th>Unidades</th>\n",
       "      <th>Nº Pedidos</th>\n",
       "      <th>Pedidos Validados</th>\n",
       "      <th>Orçamento CAPEX</th>\n",
       "      <th>Orçamento Solicitado</th>\n",
       "      <th>Saldo Solicitado</th>\n",
       "      <th>% Solicitado</th>\n",
       "      <th>Valor</th>\n",
       "      <th>Saldo Aprovado</th>\n",
       "      <th>...</th>\n",
       "      <th>Desconsiderar 5</th>\n",
       "      <th>Desconsiderar 6</th>\n",
       "      <th>Unidade</th>\n",
       "      <th>Ano</th>\n",
       "      <th>NO</th>\n",
       "      <th>Categoria</th>\n",
       "      <th>Tipo Valor</th>\n",
       "      <th>Tipo</th>\n",
       "      <th>Mês</th>\n",
       "      <th>Chave 2024</th>\n",
       "    </tr>\n",
       "  </thead>\n",
       "  <tbody>\n",
       "    <tr>\n",
       "      <th>1</th>\n",
       "      <td>Pensi</td>\n",
       "      <td>Pensi Alojamento</td>\n",
       "      <td>8</td>\n",
       "      <td>8</td>\n",
       "      <td>0.0</td>\n",
       "      <td>16334.0</td>\n",
       "      <td>-16334.0</td>\n",
       "      <td>0.000000</td>\n",
       "      <td>10434.0</td>\n",
       "      <td>-10434.0</td>\n",
       "      <td>...</td>\n",
       "      <td>NaN</td>\n",
       "      <td>NaN</td>\n",
       "      <td>Alojamento</td>\n",
       "      <td>2024</td>\n",
       "      <td>Ativos</td>\n",
       "      <td>Supply</td>\n",
       "      <td>Capex</td>\n",
       "      <td>Real</td>\n",
       "      <td>1.0</td>\n",
       "      <td>PensiAlojamento</td>\n",
       "    </tr>\n",
       "    <tr>\n",
       "      <th>2</th>\n",
       "      <td>Pensi</td>\n",
       "      <td>Pensi Cabo Frio</td>\n",
       "      <td>11</td>\n",
       "      <td>11</td>\n",
       "      <td>1086.0</td>\n",
       "      <td>20070.0</td>\n",
       "      <td>-18984.0</td>\n",
       "      <td>18.480663</td>\n",
       "      <td>2204.0</td>\n",
       "      <td>-1118.0</td>\n",
       "      <td>...</td>\n",
       "      <td>NaN</td>\n",
       "      <td>NaN</td>\n",
       "      <td>Cabo Frio</td>\n",
       "      <td>2024</td>\n",
       "      <td>Ativos</td>\n",
       "      <td>Supply</td>\n",
       "      <td>Capex</td>\n",
       "      <td>Real</td>\n",
       "      <td>1.0</td>\n",
       "      <td>PensiCabo Frio</td>\n",
       "    </tr>\n",
       "    <tr>\n",
       "      <th>3</th>\n",
       "      <td>Pensi</td>\n",
       "      <td>Pensi Campos</td>\n",
       "      <td>29</td>\n",
       "      <td>29</td>\n",
       "      <td>0.0</td>\n",
       "      <td>187691.0</td>\n",
       "      <td>-187691.0</td>\n",
       "      <td>0.000000</td>\n",
       "      <td>0.0</td>\n",
       "      <td>0.0</td>\n",
       "      <td>...</td>\n",
       "      <td>NaN</td>\n",
       "      <td>NaN</td>\n",
       "      <td>Campos</td>\n",
       "      <td>2024</td>\n",
       "      <td>Ativos</td>\n",
       "      <td>Supply</td>\n",
       "      <td>Capex</td>\n",
       "      <td>Real</td>\n",
       "      <td>1.0</td>\n",
       "      <td>PensiCampos</td>\n",
       "    </tr>\n",
       "    <tr>\n",
       "      <th>4</th>\n",
       "      <td>Pensi</td>\n",
       "      <td>Pensi Casulo</td>\n",
       "      <td>11</td>\n",
       "      <td>11</td>\n",
       "      <td>1086.0</td>\n",
       "      <td>28336.0</td>\n",
       "      <td>-27250.0</td>\n",
       "      <td>26.092081</td>\n",
       "      <td>5553.0</td>\n",
       "      <td>-4467.0</td>\n",
       "      <td>...</td>\n",
       "      <td>NaN</td>\n",
       "      <td>NaN</td>\n",
       "      <td>Casulo</td>\n",
       "      <td>2024</td>\n",
       "      <td>Ativos</td>\n",
       "      <td>Supply</td>\n",
       "      <td>Capex</td>\n",
       "      <td>Real</td>\n",
       "      <td>1.0</td>\n",
       "      <td>PensiCasulo</td>\n",
       "    </tr>\n",
       "    <tr>\n",
       "      <th>5</th>\n",
       "      <td>Pensi</td>\n",
       "      <td>Pensi Copacabana</td>\n",
       "      <td>37</td>\n",
       "      <td>37</td>\n",
       "      <td>83227.0</td>\n",
       "      <td>68954.7</td>\n",
       "      <td>14272.3</td>\n",
       "      <td>0.828514</td>\n",
       "      <td>68954.7</td>\n",
       "      <td>14272.3</td>\n",
       "      <td>...</td>\n",
       "      <td>NaN</td>\n",
       "      <td>NaN</td>\n",
       "      <td>Copacabana</td>\n",
       "      <td>2024</td>\n",
       "      <td>Ativos</td>\n",
       "      <td>Supply</td>\n",
       "      <td>Capex</td>\n",
       "      <td>Real</td>\n",
       "      <td>1.0</td>\n",
       "      <td>PensiCopacabana</td>\n",
       "    </tr>\n",
       "  </tbody>\n",
       "</table>\n",
       "<p>5 rows × 27 columns</p>\n",
       "</div>"
      ],
      "text/plain": [
       "   Marca          Unidades  Nº Pedidos  Pedidos Validados  Orçamento CAPEX  \\\n",
       "1  Pensi  Pensi Alojamento           8                  8              0.0   \n",
       "2  Pensi   Pensi Cabo Frio          11                 11           1086.0   \n",
       "3  Pensi      Pensi Campos          29                 29              0.0   \n",
       "4  Pensi      Pensi Casulo          11                 11           1086.0   \n",
       "5  Pensi  Pensi Copacabana          37                 37          83227.0   \n",
       "\n",
       "   Orçamento Solicitado  Saldo Solicitado  % Solicitado    Valor  \\\n",
       "1               16334.0          -16334.0      0.000000  10434.0   \n",
       "2               20070.0          -18984.0     18.480663   2204.0   \n",
       "3              187691.0         -187691.0      0.000000      0.0   \n",
       "4               28336.0          -27250.0     26.092081   5553.0   \n",
       "5               68954.7           14272.3      0.828514  68954.7   \n",
       "\n",
       "   Saldo Aprovado  ...  Desconsiderar 5 Desconsiderar 6     Unidade   Ano  \\\n",
       "1        -10434.0  ...              NaN             NaN  Alojamento  2024   \n",
       "2         -1118.0  ...              NaN             NaN   Cabo Frio  2024   \n",
       "3             0.0  ...              NaN             NaN      Campos  2024   \n",
       "4         -4467.0  ...              NaN             NaN      Casulo  2024   \n",
       "5         14272.3  ...              NaN             NaN  Copacabana  2024   \n",
       "\n",
       "       NO Categoria Tipo Valor  Tipo  Mês       Chave 2024  \n",
       "1  Ativos    Supply      Capex  Real  1.0  PensiAlojamento  \n",
       "2  Ativos    Supply      Capex  Real  1.0   PensiCabo Frio  \n",
       "3  Ativos    Supply      Capex  Real  1.0      PensiCampos  \n",
       "4  Ativos    Supply      Capex  Real  1.0      PensiCasulo  \n",
       "5  Ativos    Supply      Capex  Real  1.0  PensiCopacabana  \n",
       "\n",
       "[5 rows x 27 columns]"
      ]
     },
     "execution_count": 7,
     "metadata": {},
     "output_type": "execute_result"
    }
   ],
   "source": [
    "DF_ATIVOS_COPY[\"Chave 2024\"] = DF_ATIVOS_COPY[\"Marca\"] + DF_ATIVOS_COPY[\"Unidade\"]\n",
    "DF_ATIVOS_COPY.head()"
   ]
  },
  {
   "cell_type": "code",
   "execution_count": 8,
   "id": "a910af6c",
   "metadata": {},
   "outputs": [],
   "source": [
    "DF_ATIVOS_DE_PARA = pd.merge(DF_ATIVOS_COPY, DF_DE_PARA_OFC_COPY, on=\"Chave 2024\", how=\"left\")"
   ]
  },
  {
   "cell_type": "code",
   "execution_count": 9,
   "id": "068eecc2",
   "metadata": {},
   "outputs": [],
   "source": [
    "DF_ATIVOS_DE_PARA = DF_ATIVOS_DE_PARA[[\n",
    "    \"Valor\",\n",
    "    \"Marca 2024\",\n",
    "    \"Unidade 2024\",\n",
    "    \"Ano\",\n",
    "    \"NO\",\n",
    "    \"Categoria\",\n",
    "    \"Tipo Valor\",\n",
    "    \"Tipo\",\n",
    "    \"Mês\",\n",
    "]]"
   ]
  },
  {
   "cell_type": "code",
   "execution_count": 12,
   "id": "87c50389",
   "metadata": {},
   "outputs": [
    {
     "name": "stdout",
     "output_type": "stream",
     "text": [
      "<class 'pandas.core.frame.DataFrame'>\n",
      "RangeIndex: 174 entries, 0 to 173\n",
      "Data columns (total 9 columns):\n",
      " #   Column        Non-Null Count  Dtype  \n",
      "---  ------        --------------  -----  \n",
      " 0   Valor         174 non-null    float64\n",
      " 1   Marca 2024    165 non-null    object \n",
      " 2   Unidade 2024  165 non-null    object \n",
      " 3   Ano           174 non-null    int64  \n",
      " 4   NO            174 non-null    object \n",
      " 5   Categoria     174 non-null    object \n",
      " 6   Tipo Valor    174 non-null    object \n",
      " 7   Tipo          174 non-null    object \n",
      " 8   Mês           174 non-null    float64\n",
      "dtypes: float64(2), int64(1), object(6)\n",
      "memory usage: 12.4+ KB\n"
     ]
    }
   ],
   "source": [
    "DF_ATIVOS_DE_PARA.info()"
   ]
  },
  {
   "cell_type": "code",
   "execution_count": 11,
   "id": "2e31aabe",
   "metadata": {},
   "outputs": [],
   "source": [
    "DF_ATIVOS_DE_PARA.to_excel(\"Ativos até Abril.xlsx\", index=False)"
   ]
  },
  {
   "cell_type": "code",
   "execution_count": null,
   "id": "39ed96d2",
   "metadata": {},
   "outputs": [],
   "source": []
  }
 ],
 "metadata": {
  "kernelspec": {
   "display_name": "Python 3",
   "language": "python",
   "name": "python3"
  },
  "language_info": {
   "codemirror_mode": {
    "name": "ipython",
    "version": 3
   },
   "file_extension": ".py",
   "mimetype": "text/x-python",
   "name": "python",
   "nbconvert_exporter": "python",
   "pygments_lexer": "ipython3",
   "version": "3.12.4"
  }
 },
 "nbformat": 4,
 "nbformat_minor": 5
}

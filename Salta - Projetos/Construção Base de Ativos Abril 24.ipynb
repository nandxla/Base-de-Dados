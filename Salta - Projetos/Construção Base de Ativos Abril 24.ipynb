{
 "cells": [
  {
   "cell_type": "code",
   "id": "initial_id",
   "metadata": {
    "collapsed": true,
    "ExecuteTime": {
     "end_time": "2024-07-23T13:42:36.935889Z",
     "start_time": "2024-07-23T13:42:17.701935Z"
    }
   },
   "source": [
    "import pandas as pd\n",
    "import numpy as np"
   ],
   "outputs": [],
   "execution_count": 1
  },
  {
   "metadata": {},
   "cell_type": "markdown",
   "source": [
    "# Construção da Base de Ativos até Abril 2024\n",
    "Aqui está o tratamento da base de ativos, até abril de 2024, essa base não é mais usada."
   ],
   "id": "cba7a92c627dd67a"
  },
  {
   "metadata": {
    "ExecuteTime": {
     "end_time": "2024-07-23T13:52:56.989491Z",
     "start_time": "2024-07-23T13:51:59.316395Z"
    }
   },
   "cell_type": "code",
   "source": "DF_ATIVOS = pd.read_excel('https://docs.google.com/spreadsheets/d/1sdgIMgG3j4bUI671U5iADaJW18L9e55SgtFRgj1AW10/export?=download', sheet_name=\"Resumo Ativos\")",
   "id": "60dda80a02acfe6",
   "outputs": [],
   "execution_count": 20
  },
  {
   "metadata": {
    "ExecuteTime": {
     "end_time": "2024-07-23T15:02:29.579704Z",
     "start_time": "2024-07-23T15:02:29.560366Z"
    }
   },
   "cell_type": "code",
   "source": [
    "DF_ATIVOS_COPY = DF_ATIVOS.copy()\n",
    "DF_ATIVOS_COPY = DF_ATIVOS_COPY.iloc[1:]"
   ],
   "id": "7c10f8255f3b6654",
   "outputs": [],
   "execution_count": 103
  },
  {
   "metadata": {
    "ExecuteTime": {
     "end_time": "2024-07-23T15:02:30.557634Z",
     "start_time": "2024-07-23T15:02:30.544281Z"
    }
   },
   "cell_type": "code",
   "source": [
    "DF_ATIVOS_COPY[\"Unidade\"] = DF_ATIVOS_COPY.apply(lambda row: row[\"Unidades\"].replace(f\"{row['Marca']} \", \"\"), axis=1)\n",
    "DF_ATIVOS_COPY[\"Unidade\"] = DF_ATIVOS_COPY[\"Unidade\"] \\\n",
    "                                .str.replace(\"SP \", \"\") \\\n",
    "                                .str.replace(\"- \", \"\") \\\n",
    "                                .str.replace(\"MG \", \"\")"
   ],
   "id": "d9188cbd851697e6",
   "outputs": [],
   "execution_count": 104
  },
  {
   "metadata": {
    "ExecuteTime": {
     "end_time": "2024-07-23T15:02:31.211836Z",
     "start_time": "2024-07-23T15:02:31.198213Z"
    }
   },
   "cell_type": "code",
   "source": [
    "DF_ATIVOS_COPY[\"Ano\"] = 2024\n",
    "DF_ATIVOS_COPY[\"NO\"] = \"Ativos\"\n",
    "DF_ATIVOS_COPY[\"Categoria\"] = \"Supply\"\n",
    "DF_ATIVOS_COPY[\"Tipo Valor\"] = \"Capex\"\n",
    "DF_ATIVOS_COPY[\"Tipo\"] = \"Real\"\n",
    "\n",
    "terco = len(DF_ATIVOS_COPY) // 3\n",
    "DF_ATIVOS_COPY.loc[:terco-1, \"Mês\"] = 1\n",
    "DF_ATIVOS_COPY.loc[terco:2*terco-1, \"Mês\"] = 2\n",
    "DF_ATIVOS_COPY.loc[2*terco:, \"Mês\"] = 3\n",
    "\n",
    "DF_ATIVOS_COPY.rename(columns={\n",
    "    \"Orçamento Aprovado\": \"Valor\"\n",
    "}, inplace=True)"
   ],
   "id": "f8de87629d6858a3",
   "outputs": [],
   "execution_count": 105
  },
  {
   "metadata": {
    "ExecuteTime": {
     "end_time": "2024-07-23T15:02:47.550981Z",
     "start_time": "2024-07-23T15:02:47.539250Z"
    }
   },
   "cell_type": "code",
   "source": [
    "DF_ATIVOS_COPY = DF_ATIVOS_COPY[[\n",
    "    \"Valor\",\n",
    "    \"Marca\",\n",
    "    \"Unidade\",\n",
    "    \"Ano\",\n",
    "    \"NO\",\n",
    "    \"Categoria\",\n",
    "    \"Tipo Valor\",\n",
    "    \"Tipo\",\n",
    "    \"Mês\",\n",
    "]]"
   ],
   "id": "d5f30d2e18cc5fc0",
   "outputs": [],
   "execution_count": 107
  },
  {
   "metadata": {
    "ExecuteTime": {
     "end_time": "2024-07-23T14:44:07.468540Z",
     "start_time": "2024-07-23T14:44:07.456797Z"
    }
   },
   "cell_type": "code",
   "source": "",
   "id": "579196fafb0c90f7",
   "outputs": [],
   "execution_count": 69
  }
 ],
 "metadata": {
  "kernelspec": {
   "display_name": "Python 3",
   "language": "python",
   "name": "python3"
  },
  "language_info": {
   "codemirror_mode": {
    "name": "ipython",
    "version": 2
   },
   "file_extension": ".py",
   "mimetype": "text/x-python",
   "name": "python",
   "nbconvert_exporter": "python",
   "pygments_lexer": "ipython2",
   "version": "2.7.6"
  }
 },
 "nbformat": 4,
 "nbformat_minor": 5
}

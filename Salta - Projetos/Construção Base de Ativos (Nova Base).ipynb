{
 "cells": [
  {
   "cell_type": "code",
   "execution_count": 215,
   "metadata": {},
   "outputs": [],
   "source": [
    "import pandas as pd\n",
    "import numpy as np"
   ]
  },
  {
   "cell_type": "markdown",
   "metadata": {},
   "source": [
    "# Importação e Cópia\n",
    "Estou importando os dados diretamente do Gsheet, e na célula seguinte fazendo a cópia dos dataframes. A cópia serve para não ter o trabalho de importar dataframe da nuvem novamente."
   ]
  },
  {
   "cell_type": "code",
   "execution_count": 319,
   "metadata": {},
   "outputs": [
    {
     "name": "stderr",
     "output_type": "stream",
     "text": [
      "c:\\Users\\Fernando Santos\\anaconda3\\Lib\\site-packages\\openpyxl\\worksheet\\_read_only.py:81: UserWarning: Cell E1954 is marked as a date but the serial value 6692727.0 is outside the limits for dates. The cell will be treated as an error.\n",
      "  for idx, row in parser.parse():\n"
     ]
    }
   ],
   "source": [
    "DF_COMPRAS_2024 = pd.read_excel(\n",
    "    \"https://docs.google.com/spreadsheets/d/117UmGO31yywC6mucCwMFPmnQcg1kRI5WVRR1Cvpb6l8/export?format=xlsx&id=117UmGO31yywC6mucCwMFPmnQcg1kRI5WVRR1Cvpb6l8\",\n",
    "    sheet_name=\"Lançamento de NF Não Recorrente\",\n",
    "    usecols=[\n",
    "        \"Marca\",\n",
    "        \"Unidade\",\n",
    "        \"Valor Corrigido\",\n",
    "        \"Mês Corrigido\",\n",
    "    ]\n",
    ")\n",
    "\n",
    "DF_DE_PARA_OFC = pd.read_excel(\n",
    "    'https://docs.google.com/spreadsheets/d/1FXJHfBeenCm7kDq-3SpJjuuBY0nXZ2xF-6DTK2HQyaQ/export?=format=xlsx&id=1FXJHfBeenCm7kDq-3SpJjuuBY0nXZ2xF-6DTK2HQyaQ', \n",
    "    sheet_name=\"Unidades\",\n",
    "    usecols=[\n",
    "        \"Chave 2024\",\n",
    "        \"Marca 2024\",\n",
    "        \"Unidade 2024\"\n",
    "    ]\n",
    ")"
   ]
  },
  {
   "cell_type": "code",
   "execution_count": 320,
   "metadata": {},
   "outputs": [],
   "source": [
    "DF_COMPRAS_2024_COPY = DF_COMPRAS_2024.copy()\n",
    "DF_DE_PARA_OFC_COPY = DF_DE_PARA_OFC.copy()"
   ]
  },
  {
   "cell_type": "markdown",
   "metadata": {},
   "source": [
    "# Correção do Mês\n",
    "Aqui estou covertendo os meses faltantes pelo mês atual, e não só isso, convertendo os valores para inteiro."
   ]
  },
  {
   "cell_type": "code",
   "execution_count": 321,
   "metadata": {},
   "outputs": [],
   "source": [
    "from datetime import datetime\n",
    "\n",
    "DF_COMPRAS_2024_COPY[\"Mês Corrigido\"] = pd.to_numeric(DF_COMPRAS_2024_COPY[\"Mês Corrigido\"], \"coerce\")\n",
    "DF_COMPRAS_2024_COPY[\"Mês Corrigido\"] = DF_COMPRAS_2024_COPY[\"Mês Corrigido\"].fillna(0)\n",
    "DF_COMPRAS_2024_COPY[\"Mês Corrigido\"] = DF_COMPRAS_2024_COPY[\"Mês Corrigido\"].astype(\"int\")\n",
    "DF_COMPRAS_2024_COPY.loc[DF_COMPRAS_2024_COPY[\"Mês Corrigido\"] == 0, \"Mês Corrigido\"] = datetime.now().month"
   ]
  },
  {
   "cell_type": "markdown",
   "metadata": {},
   "source": [
    "# Correção de Marca e Unidade\n",
    "Agora, vamos atualizar a marca e unidade para os nomes de 2024, nesse processo estou fazendo:\n",
    "- Retirandos os dados faltantes\n",
    "- Aplicando função ```stip()``` na Marca e Unidade, para retirar os espaços em branco\n",
    "- Criando uma coluna apenas com a Unidade\n",
    "- Criando a Chave 2024\n",
    "- Aplicando o DePara e puxando as Marcas e Unidades atualizadas"
   ]
  },
  {
   "cell_type": "code",
   "execution_count": 322,
   "metadata": {},
   "outputs": [],
   "source": [
    "DF_COMPRAS_2024_COPY = DF_COMPRAS_2024_COPY[DF_COMPRAS_2024_COPY[\"Marca\"].notna()]\n",
    "DF_COMPRAS_2024_COPY = DF_COMPRAS_2024_COPY[DF_COMPRAS_2024_COPY[\"Unidade\"].notna()]\n",
    "DF_DE_PARA_OFC_COPY = DF_DE_PARA_OFC_COPY[DF_DE_PARA_OFC_COPY[\"Chave 2024\"].notna()]\n",
    "\n",
    "DF_COMPRAS_2024_COPY[\"Marca\"] = DF_COMPRAS_2024_COPY.apply(lambda x: x[\"Marca\"].strip(), axis=1)\n",
    "DF_COMPRAS_2024_COPY[\"Unidade\"] = DF_COMPRAS_2024_COPY.apply(lambda x: x[\"Unidade\"].strip(), axis=1)\n",
    "\n",
    "DF_COMPRAS_2024_COPY[\"Unidade Atualizada\"] = DF_COMPRAS_2024_COPY.apply(lambda row: row[\"Unidade\"].replace(f\"{row['Marca']} \", \"\"), axis=1)\n",
    "DF_COMPRAS_2024_COPY[\"Chave 2024\"] = DF_COMPRAS_2024_COPY[\"Marca\"] + DF_COMPRAS_2024_COPY[\"Unidade Atualizada\"] "
   ]
  },
  {
   "cell_type": "code",
   "execution_count": 323,
   "metadata": {},
   "outputs": [
    {
     "data": {
      "text/html": [
       "<div>\n",
       "<style scoped>\n",
       "    .dataframe tbody tr th:only-of-type {\n",
       "        vertical-align: middle;\n",
       "    }\n",
       "\n",
       "    .dataframe tbody tr th {\n",
       "        vertical-align: top;\n",
       "    }\n",
       "\n",
       "    .dataframe thead th {\n",
       "        text-align: right;\n",
       "    }\n",
       "</style>\n",
       "<table border=\"1\" class=\"dataframe\">\n",
       "  <thead>\n",
       "    <tr style=\"text-align: right;\">\n",
       "      <th></th>\n",
       "      <th>Marca</th>\n",
       "      <th>Unidade</th>\n",
       "      <th>Valor Corrigido</th>\n",
       "      <th>Mês Corrigido</th>\n",
       "      <th>Unidade Atualizada</th>\n",
       "      <th>Chave 2024</th>\n",
       "      <th>Marca 2024</th>\n",
       "      <th>Unidade 2024</th>\n",
       "    </tr>\n",
       "  </thead>\n",
       "  <tbody>\n",
       "    <tr>\n",
       "      <th>0</th>\n",
       "      <td>Anglo Alante</td>\n",
       "      <td>Anglo Alante São José dos Campos</td>\n",
       "      <td>106020.0</td>\n",
       "      <td>11</td>\n",
       "      <td>São José dos Campos</td>\n",
       "      <td>Anglo AlanteSão José dos Campos</td>\n",
       "      <td>Anglo Alante</td>\n",
       "      <td>São José dos Campos</td>\n",
       "    </tr>\n",
       "    <tr>\n",
       "      <th>1</th>\n",
       "      <td>Elite</td>\n",
       "      <td>Elite Idesa Taubaté</td>\n",
       "      <td>40423.0</td>\n",
       "      <td>11</td>\n",
       "      <td>Idesa Taubaté</td>\n",
       "      <td>EliteIdesa Taubaté</td>\n",
       "      <td>Elite</td>\n",
       "      <td>Idesa Taubaté</td>\n",
       "    </tr>\n",
       "    <tr>\n",
       "      <th>2</th>\n",
       "      <td>Elite</td>\n",
       "      <td>Elite Idesa Taubaté</td>\n",
       "      <td>15146.0</td>\n",
       "      <td>11</td>\n",
       "      <td>Idesa Taubaté</td>\n",
       "      <td>EliteIdesa Taubaté</td>\n",
       "      <td>Elite</td>\n",
       "      <td>Idesa Taubaté</td>\n",
       "    </tr>\n",
       "    <tr>\n",
       "      <th>3</th>\n",
       "      <td>Anglo Alante</td>\n",
       "      <td>Anglo Alante São José dos Campos</td>\n",
       "      <td>21529.6</td>\n",
       "      <td>11</td>\n",
       "      <td>São José dos Campos</td>\n",
       "      <td>Anglo AlanteSão José dos Campos</td>\n",
       "      <td>Anglo Alante</td>\n",
       "      <td>São José dos Campos</td>\n",
       "    </tr>\n",
       "    <tr>\n",
       "      <th>4</th>\n",
       "      <td>Elite</td>\n",
       "      <td>Elite Taboão da Serra</td>\n",
       "      <td>3199.7</td>\n",
       "      <td>1</td>\n",
       "      <td>Taboão da Serra</td>\n",
       "      <td>EliteTaboão da Serra</td>\n",
       "      <td>Elite</td>\n",
       "      <td>Taboão da Serra</td>\n",
       "    </tr>\n",
       "  </tbody>\n",
       "</table>\n",
       "</div>"
      ],
      "text/plain": [
       "          Marca                           Unidade  Valor Corrigido  \\\n",
       "0  Anglo Alante  Anglo Alante São José dos Campos         106020.0   \n",
       "1         Elite               Elite Idesa Taubaté          40423.0   \n",
       "2         Elite               Elite Idesa Taubaté          15146.0   \n",
       "3  Anglo Alante  Anglo Alante São José dos Campos          21529.6   \n",
       "4         Elite             Elite Taboão da Serra           3199.7   \n",
       "\n",
       "   Mês Corrigido   Unidade Atualizada                       Chave 2024  \\\n",
       "0             11  São José dos Campos  Anglo AlanteSão José dos Campos   \n",
       "1             11        Idesa Taubaté               EliteIdesa Taubaté   \n",
       "2             11        Idesa Taubaté               EliteIdesa Taubaté   \n",
       "3             11  São José dos Campos  Anglo AlanteSão José dos Campos   \n",
       "4              1      Taboão da Serra             EliteTaboão da Serra   \n",
       "\n",
       "     Marca 2024         Unidade 2024  \n",
       "0  Anglo Alante  São José dos Campos  \n",
       "1         Elite        Idesa Taubaté  \n",
       "2         Elite        Idesa Taubaté  \n",
       "3  Anglo Alante  São José dos Campos  \n",
       "4         Elite      Taboão da Serra  "
      ]
     },
     "execution_count": 323,
     "metadata": {},
     "output_type": "execute_result"
    }
   ],
   "source": [
    "DF_COMPRAS_2024_DE_PARA = pd.merge(DF_COMPRAS_2024_COPY, DF_DE_PARA_OFC_COPY, on=\"Chave 2024\", how=\"left\")\n",
    "DF_COMPRAS_2024_DE_PARA.head()"
   ]
  },
  {
   "cell_type": "markdown",
   "metadata": {},
   "source": [
    "# Dividindo o DataFrame\n",
    "Nesse momento estou divindo meu DataFrame em dois, um com os erros, no qual vou tratar e unir novamente ao dataset original."
   ]
  },
  {
   "cell_type": "code",
   "execution_count": 324,
   "metadata": {},
   "outputs": [],
   "source": [
    "DF_ERROS = DF_COMPRAS_2024_DE_PARA[DF_COMPRAS_2024_DE_PARA[\"Marca 2024\"].isna()]\n",
    "DF_COMPRAS_2024_DE_PARA = DF_COMPRAS_2024_DE_PARA[DF_COMPRAS_2024_DE_PARA[\"Marca 2024\"].notna()]"
   ]
  },
  {
   "cell_type": "code",
   "execution_count": 325,
   "metadata": {},
   "outputs": [],
   "source": [
    "DF_ERROS = DF_ERROS.loc[(DF_ERROS[\"Marca\"] != \"NUs\")]\n",
    "DF_ERROS = DF_ERROS.loc[(DF_ERROS[\"Marca\"] != \"Visita BE\")]\n",
    "DF_ERROS = DF_ERROS.loc[(DF_ERROS[\"Marca\"] != \"Salta\")]\n",
    "\n",
    "DF_ERROS[\"Marca\"] = DF_ERROS.apply(lambda x: x[\"Unidade\"].split(\" \")[0], axis=1)\n",
    "\n",
    "DF_ERROS[\"Unidade Atualizada\"] = DF_ERROS.apply(lambda row: row[\"Unidade\"].replace(f\"{row['Marca']} \", \"\"), axis=1)\n",
    "DF_ERROS[\"Chave 2024\"] = DF_ERROS[\"Marca\"] + DF_ERROS[\"Unidade Atualizada\"]\n",
    "DF_ERROS.drop(columns=[\n",
    "    \"Marca 2024\",\n",
    "    \"Unidade 2024\",\n",
    "], inplace=True)\n",
    "\n",
    "DF_ERROS = pd.merge(DF_ERROS, DF_DE_PARA_OFC_COPY, on=\"Chave 2024\", how=\"left\")"
   ]
  },
  {
   "cell_type": "code",
   "execution_count": 326,
   "metadata": {},
   "outputs": [
    {
     "data": {
      "text/html": [
       "<div>\n",
       "<style scoped>\n",
       "    .dataframe tbody tr th:only-of-type {\n",
       "        vertical-align: middle;\n",
       "    }\n",
       "\n",
       "    .dataframe tbody tr th {\n",
       "        vertical-align: top;\n",
       "    }\n",
       "\n",
       "    .dataframe thead th {\n",
       "        text-align: right;\n",
       "    }\n",
       "</style>\n",
       "<table border=\"1\" class=\"dataframe\">\n",
       "  <thead>\n",
       "    <tr style=\"text-align: right;\">\n",
       "      <th></th>\n",
       "      <th>Marca</th>\n",
       "      <th>Unidade</th>\n",
       "      <th>Valor Corrigido</th>\n",
       "      <th>Mês Corrigido</th>\n",
       "      <th>Unidade Atualizada</th>\n",
       "      <th>Chave 2024</th>\n",
       "      <th>Marca 2024</th>\n",
       "      <th>Unidade 2024</th>\n",
       "    </tr>\n",
       "  </thead>\n",
       "  <tbody>\n",
       "    <tr>\n",
       "      <th>2</th>\n",
       "      <td>Anglo</td>\n",
       "      <td>Anglo Alante Paulínia</td>\n",
       "      <td>1277.2</td>\n",
       "      <td>12</td>\n",
       "      <td>Alante Paulínia</td>\n",
       "      <td>AngloAlante Paulínia</td>\n",
       "      <td>NaN</td>\n",
       "      <td>NaN</td>\n",
       "    </tr>\n",
       "    <tr>\n",
       "      <th>17</th>\n",
       "      <td>PH</td>\n",
       "      <td>PH tijuca 1</td>\n",
       "      <td>5524.6</td>\n",
       "      <td>12</td>\n",
       "      <td>tijuca 1</td>\n",
       "      <td>PHtijuca 1</td>\n",
       "      <td>NaN</td>\n",
       "      <td>NaN</td>\n",
       "    </tr>\n",
       "    <tr>\n",
       "      <th>22</th>\n",
       "      <td>Elite</td>\n",
       "      <td>Elite SP Opção Mauá</td>\n",
       "      <td>1800.0</td>\n",
       "      <td>1</td>\n",
       "      <td>SP Opção Mauá</td>\n",
       "      <td>EliteSP Opção Mauá</td>\n",
       "      <td>NaN</td>\n",
       "      <td>NaN</td>\n",
       "    </tr>\n",
       "    <tr>\n",
       "      <th>23</th>\n",
       "      <td>Maxi</td>\n",
       "      <td>Maxi Cuiaba</td>\n",
       "      <td>799.0</td>\n",
       "      <td>1</td>\n",
       "      <td>Cuiaba</td>\n",
       "      <td>MaxiCuiaba</td>\n",
       "      <td>NaN</td>\n",
       "      <td>NaN</td>\n",
       "    </tr>\n",
       "    <tr>\n",
       "      <th>29</th>\n",
       "      <td>Elite\\n</td>\n",
       "      <td>Elite\\n Santo André</td>\n",
       "      <td>418.0</td>\n",
       "      <td>4</td>\n",
       "      <td>Santo André</td>\n",
       "      <td>Elite\\nSanto André</td>\n",
       "      <td>NaN</td>\n",
       "      <td>NaN</td>\n",
       "    </tr>\n",
       "  </tbody>\n",
       "</table>\n",
       "</div>"
      ],
      "text/plain": [
       "      Marca                Unidade  Valor Corrigido  Mês Corrigido  \\\n",
       "2     Anglo  Anglo Alante Paulínia           1277.2             12   \n",
       "17       PH            PH tijuca 1           5524.6             12   \n",
       "22    Elite    Elite SP Opção Mauá           1800.0              1   \n",
       "23     Maxi            Maxi Cuiaba            799.0              1   \n",
       "29  Elite\\n    Elite\\n Santo André            418.0              4   \n",
       "\n",
       "   Unidade Atualizada            Chave 2024 Marca 2024 Unidade 2024  \n",
       "2     Alante Paulínia  AngloAlante Paulínia        NaN          NaN  \n",
       "17           tijuca 1            PHtijuca 1        NaN          NaN  \n",
       "22      SP Opção Mauá    EliteSP Opção Mauá        NaN          NaN  \n",
       "23             Cuiaba            MaxiCuiaba        NaN          NaN  \n",
       "29        Santo André    Elite\\nSanto André        NaN          NaN  "
      ]
     },
     "execution_count": 326,
     "metadata": {},
     "output_type": "execute_result"
    }
   ],
   "source": [
    "DF_ERROS[DF_ERROS[\"Marca 2024\"].isna()]"
   ]
  },
  {
   "cell_type": "markdown",
   "metadata": {},
   "source": [
    "# Unindo as Bases de Dados"
   ]
  },
  {
   "cell_type": "code",
   "execution_count": 327,
   "metadata": {},
   "outputs": [],
   "source": [
    "DF_COMPRAS_2024_DE_PARA = DF_COMPRAS_2024_DE_PARA[[\n",
    "    \"Marca 2024\",\n",
    "    \"Unidade 2024\",\n",
    "    \"Valor Corrigido\",\n",
    "    \"Mês Corrigido\",\n",
    "]]\n",
    "\n",
    "DF_COMPRAS_2024_DE_PARA[\"Ano\"] = 2024\n",
    "DF_COMPRAS_2024_DE_PARA[\"NO\"] = \"Ativos\"\n",
    "DF_COMPRAS_2024_DE_PARA[\"Categoria\"] = \"Supply\"\n",
    "DF_COMPRAS_2024_DE_PARA[\"Tipo Valor\"] = \"Capex\"\n",
    "DF_COMPRAS_2024_DE_PARA[\"Tipo\"] = \"Real\"\n",
    "\n",
    "DF_ERROS_ATUALIZADOS = DF_ERROS[DF_ERROS[\"Marca 2024\"].notna()]\n",
    "DF_ERROS_ATUALIZADOS = DF_ERROS_ATUALIZADOS[[\n",
    "    \"Marca 2024\",\n",
    "    \"Unidade 2024\",\n",
    "    \"Valor Corrigido\",\n",
    "    \"Mês Corrigido\"\n",
    "]]\n",
    "\n",
    "DF_ERROS_ATUALIZADOS[\"Ano\"] = 2024\n",
    "DF_ERROS_ATUALIZADOS[\"NO\"] = \"Ativos\"\n",
    "DF_ERROS_ATUALIZADOS[\"Categoria\"] = \"Supply\"\n",
    "DF_ERROS_ATUALIZADOS[\"Tipo Valor\"] = \"Capex\"\n",
    "DF_ERROS_ATUALIZADOS[\"Tipo\"] = \"Real\""
   ]
  },
  {
   "cell_type": "code",
   "execution_count": 328,
   "metadata": {},
   "outputs": [],
   "source": [
    "DF_COMPRAS_2024_DE_PARA = DF_COMPRAS_2024_DE_PARA[[\n",
    "    \"Valor Corrigido\",\n",
    "    \"Marca 2024\",\n",
    "    \"Unidade 2024\",\n",
    "    \"Ano\",\n",
    "    \"NO\",\n",
    "    \"Categoria\",\n",
    "    \"Tipo Valor\",\n",
    "    \"Tipo\",\n",
    "    \"Mês Corrigido\",\n",
    "]]\n",
    "\n",
    "DF_ERROS_ATUALIZADOS = DF_ERROS_ATUALIZADOS[[\n",
    "    \"Valor Corrigido\",\n",
    "    \"Marca 2024\",\n",
    "    \"Unidade 2024\",\n",
    "    \"Ano\",\n",
    "    \"NO\",\n",
    "    \"Categoria\",\n",
    "    \"Tipo Valor\",\n",
    "    \"Tipo\",\n",
    "    \"Mês Corrigido\",\n",
    "]]"
   ]
  },
  {
   "cell_type": "code",
   "execution_count": 329,
   "metadata": {},
   "outputs": [
    {
     "data": {
      "text/html": [
       "<div>\n",
       "<style scoped>\n",
       "    .dataframe tbody tr th:only-of-type {\n",
       "        vertical-align: middle;\n",
       "    }\n",
       "\n",
       "    .dataframe tbody tr th {\n",
       "        vertical-align: top;\n",
       "    }\n",
       "\n",
       "    .dataframe thead th {\n",
       "        text-align: right;\n",
       "    }\n",
       "</style>\n",
       "<table border=\"1\" class=\"dataframe\">\n",
       "  <thead>\n",
       "    <tr style=\"text-align: right;\">\n",
       "      <th></th>\n",
       "      <th>Valor Corrigido</th>\n",
       "      <th>Marca 2024</th>\n",
       "      <th>Unidade 2024</th>\n",
       "      <th>Ano</th>\n",
       "      <th>NO</th>\n",
       "      <th>Categoria</th>\n",
       "      <th>Tipo Valor</th>\n",
       "      <th>Tipo</th>\n",
       "      <th>Mês Corrigido</th>\n",
       "    </tr>\n",
       "  </thead>\n",
       "  <tbody>\n",
       "    <tr>\n",
       "      <th>0</th>\n",
       "      <td>106020.0</td>\n",
       "      <td>Anglo Alante</td>\n",
       "      <td>São José dos Campos</td>\n",
       "      <td>2024</td>\n",
       "      <td>Ativos</td>\n",
       "      <td>Supply</td>\n",
       "      <td>Capex</td>\n",
       "      <td>Real</td>\n",
       "      <td>11</td>\n",
       "    </tr>\n",
       "    <tr>\n",
       "      <th>1</th>\n",
       "      <td>40423.0</td>\n",
       "      <td>Elite</td>\n",
       "      <td>Idesa Taubaté</td>\n",
       "      <td>2024</td>\n",
       "      <td>Ativos</td>\n",
       "      <td>Supply</td>\n",
       "      <td>Capex</td>\n",
       "      <td>Real</td>\n",
       "      <td>11</td>\n",
       "    </tr>\n",
       "    <tr>\n",
       "      <th>2</th>\n",
       "      <td>15146.0</td>\n",
       "      <td>Elite</td>\n",
       "      <td>Idesa Taubaté</td>\n",
       "      <td>2024</td>\n",
       "      <td>Ativos</td>\n",
       "      <td>Supply</td>\n",
       "      <td>Capex</td>\n",
       "      <td>Real</td>\n",
       "      <td>11</td>\n",
       "    </tr>\n",
       "    <tr>\n",
       "      <th>3</th>\n",
       "      <td>21529.6</td>\n",
       "      <td>Anglo Alante</td>\n",
       "      <td>São José dos Campos</td>\n",
       "      <td>2024</td>\n",
       "      <td>Ativos</td>\n",
       "      <td>Supply</td>\n",
       "      <td>Capex</td>\n",
       "      <td>Real</td>\n",
       "      <td>11</td>\n",
       "    </tr>\n",
       "    <tr>\n",
       "      <th>4</th>\n",
       "      <td>3199.7</td>\n",
       "      <td>Elite</td>\n",
       "      <td>Taboão da Serra</td>\n",
       "      <td>2024</td>\n",
       "      <td>Ativos</td>\n",
       "      <td>Supply</td>\n",
       "      <td>Capex</td>\n",
       "      <td>Real</td>\n",
       "      <td>1</td>\n",
       "    </tr>\n",
       "  </tbody>\n",
       "</table>\n",
       "</div>"
      ],
      "text/plain": [
       "   Valor Corrigido    Marca 2024         Unidade 2024   Ano      NO Categoria  \\\n",
       "0         106020.0  Anglo Alante  São José dos Campos  2024  Ativos    Supply   \n",
       "1          40423.0         Elite        Idesa Taubaté  2024  Ativos    Supply   \n",
       "2          15146.0         Elite        Idesa Taubaté  2024  Ativos    Supply   \n",
       "3          21529.6  Anglo Alante  São José dos Campos  2024  Ativos    Supply   \n",
       "4           3199.7         Elite      Taboão da Serra  2024  Ativos    Supply   \n",
       "\n",
       "  Tipo Valor  Tipo  Mês Corrigido  \n",
       "0      Capex  Real             11  \n",
       "1      Capex  Real             11  \n",
       "2      Capex  Real             11  \n",
       "3      Capex  Real             11  \n",
       "4      Capex  Real              1  "
      ]
     },
     "execution_count": 329,
     "metadata": {},
     "output_type": "execute_result"
    }
   ],
   "source": [
    "DF_ATIVOS = pd.concat([DF_COMPRAS_2024_DE_PARA, DF_ERROS_ATUALIZADOS], axis=0)\n",
    "DF_ATIVOS.head()"
   ]
  },
  {
   "cell_type": "code",
   "execution_count": 332,
   "metadata": {},
   "outputs": [
    {
     "data": {
      "text/plain": [
       "11204695.780000001"
      ]
     },
     "execution_count": 332,
     "metadata": {},
     "output_type": "execute_result"
    }
   ],
   "source": [
    "DF_ATIVOS[\"Valor Corrigido\"].sum()"
   ]
  },
  {
   "cell_type": "code",
   "execution_count": 331,
   "metadata": {},
   "outputs": [],
   "source": [
    "DF_ATIVOS.to_excel(\"Ativos 2024 (Padronizado).xlsx\", index=False)"
   ]
  },
  {
   "cell_type": "code",
   "execution_count": null,
   "metadata": {},
   "outputs": [],
   "source": []
  }
 ],
 "metadata": {
  "kernelspec": {
   "display_name": "base",
   "language": "python",
   "name": "python3"
  },
  "language_info": {
   "codemirror_mode": {
    "name": "ipython",
    "version": 3
   },
   "file_extension": ".py",
   "mimetype": "text/x-python",
   "name": "python",
   "nbconvert_exporter": "python",
   "pygments_lexer": "ipython3",
   "version": "3.12.4"
  }
 },
 "nbformat": 4,
 "nbformat_minor": 2
}

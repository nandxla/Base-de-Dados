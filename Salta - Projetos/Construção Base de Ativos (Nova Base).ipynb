{
 "cells": [
  {
   "cell_type": "code",
   "execution_count": 86,
   "metadata": {},
   "outputs": [],
   "source": [
    "import pandas as pd\n",
    "import numpy as np"
   ]
  },
  {
   "cell_type": "code",
   "execution_count": 133,
   "metadata": {},
   "outputs": [],
   "source": [
    "DF_COMPRAS_2024 = pd.read_csv(\n",
    "    \"Compras 2024 - Controles Gerais - Lançamento de NF Não Recorrentes.csv\",\n",
    "    usecols=[\n",
    "        \"Marca\",\n",
    "        \"UNIDADE\",\n",
    "        \"Valor\",\n",
    "        \"Fluig\",\n",
    "        \"Mês\",\n",
    "    ]\n",
    ")\n",
    "\n",
    "DF_DE_PARA_OFC = pd.read_excel(\n",
    "    'https://docs.google.com/spreadsheets/d/1FXJHfBeenCm7kDq-3SpJjuuBY0nXZ2xF-6DTK2HQyaQ/export?=download', \n",
    "    sheet_name=\"Unidades\",\n",
    "    usecols=[\n",
    "        \"Chave 2024\",\n",
    "        \"Marca 2024\",\n",
    "        \"Unidade 2024\"\n",
    "    ]\n",
    ")"
   ]
  },
  {
   "cell_type": "code",
   "execution_count": 134,
   "metadata": {},
   "outputs": [],
   "source": [
    "DF_COMPRAS_2024_COPY = DF_COMPRAS_2024.copy()\n",
    "DF_DE_PARA_OFC_COPY = DF_DE_PARA_OFC.copy()"
   ]
  },
  {
   "cell_type": "code",
   "execution_count": 135,
   "metadata": {},
   "outputs": [
    {
     "name": "stderr",
     "output_type": "stream",
     "text": [
      "<>:2: SyntaxWarning: invalid escape sequence '\\$'\n",
      "<>:2: SyntaxWarning: invalid escape sequence '\\$'\n",
      "C:\\Users\\nando\\AppData\\Local\\Temp\\ipykernel_15464\\3437852144.py:2: SyntaxWarning: invalid escape sequence '\\$'\n",
      "  .str.replace(\"R\\$\", \"\", regex=True) \\\n"
     ]
    }
   ],
   "source": [
    "DF_COMPRAS_2024_COPY[\"Valor\"] = DF_COMPRAS_2024_COPY[\"Valor\"] \\\n",
    "                                        .str.replace(\"R\\$\", \"\", regex=True) \\\n",
    "                                        .str.replace(\".\", \"\") \\\n",
    "                                        .str.replace(\",\", \".\") \\\n",
    "                                        .str.strip().astype(\"float\")"
   ]
  },
  {
   "cell_type": "code",
   "execution_count": 136,
   "metadata": {},
   "outputs": [],
   "source": [
    "DF_COMPRAS_2024_COPY = DF_COMPRAS_2024_COPY[DF_COMPRAS_2024_COPY[\"Marca\"].notna()]\n",
    "DF_COMPRAS_2024_COPY = DF_COMPRAS_2024_COPY[DF_COMPRAS_2024_COPY[\"UNIDADE\"].notna()]"
   ]
  },
  {
   "cell_type": "code",
   "execution_count": 137,
   "metadata": {},
   "outputs": [],
   "source": [
    "DF_COMPRAS_2024_COPY[\"Unidade\"] = DF_COMPRAS_2024_COPY.apply(lambda row: row[\"UNIDADE\"].replace(f\"{row['Marca']} \", \"\"), axis=1)\n",
    "DF_COMPRAS_2024_COPY[\"Chave 2024\"] = DF_COMPRAS_2024_COPY[\"Marca\"] + DF_COMPRAS_2024_COPY[\"Unidade\"] "
   ]
  },
  {
   "cell_type": "code",
   "execution_count": 138,
   "metadata": {},
   "outputs": [],
   "source": [
    "DF_COMPRAS_2024_DE_PARA = pd.merge(DF_COMPRAS_2024_COPY, DF_DE_PARA_OFC_COPY, on=\"Chave 2024\", how=\"left\")"
   ]
  },
  {
   "cell_type": "code",
   "execution_count": 139,
   "metadata": {},
   "outputs": [],
   "source": [
    "BASE_ERROS = DF_COMPRAS_2024_DE_PARA[DF_COMPRAS_2024_DE_PARA[\"Marca 2024\"].isna()]\n",
    "DF_COMPRAS_2024_DE_PARA = DF_COMPRAS_2024_DE_PARA[DF_COMPRAS_2024_DE_PARA[\"Marca 2024\"].notna()]"
   ]
  },
  {
   "cell_type": "code",
   "execution_count": 140,
   "metadata": {},
   "outputs": [],
   "source": [
    "DF_COMPRAS_2024_DE_PARA = DF_COMPRAS_2024_DE_PARA[[\n",
    "    \"Marca 2024\",\n",
    "    \"Unidade 2024\",\n",
    "    \"Valor\",\n",
    "    \"Mês\",\n",
    "]]\n",
    "\n",
    "DF_COMPRAS_2024_DE_PARA[\"Ano\"] = 2024\n",
    "DF_COMPRAS_2024_DE_PARA[\"NO\"] = \"Ativos\"\n",
    "DF_COMPRAS_2024_DE_PARA[\"Categoria\"] = \"Supply\"\n",
    "DF_COMPRAS_2024_DE_PARA[\"Tipo Valor\"] = \"Capex\"\n",
    "DF_COMPRAS_2024_DE_PARA[\"Tipo\"] = \"Real\""
   ]
  },
  {
   "cell_type": "code",
   "execution_count": 141,
   "metadata": {},
   "outputs": [],
   "source": [
    "from datetime import datetime\n",
    "\n",
    "DF_COMPRAS_2024_DE_PARA.loc[DF_COMPRAS_2024_DE_PARA[\"Valor\"].isna(), \"Valor\"] = 0.0\n",
    "DF_COMPRAS_2024_DE_PARA.loc[DF_COMPRAS_2024_DE_PARA[\"Mês\"].isna(), \"Mês\"] = datetime.now().month"
   ]
  },
  {
   "cell_type": "code",
   "execution_count": 148,
   "metadata": {},
   "outputs": [
    {
     "name": "stdout",
     "output_type": "stream",
     "text": [
      "<class 'pandas.core.frame.DataFrame'>\n",
      "Index: 3418 entries, 0 to 3649\n",
      "Data columns (total 9 columns):\n",
      " #   Column        Non-Null Count  Dtype  \n",
      "---  ------        --------------  -----  \n",
      " 0   Valor         3418 non-null   float64\n",
      " 1   Marca 2024    3418 non-null   object \n",
      " 2   Unidade 2024  3418 non-null   object \n",
      " 3   Ano           3418 non-null   int64  \n",
      " 4   NO            3418 non-null   object \n",
      " 5   Categoria     3418 non-null   object \n",
      " 6   Tipo Valor    3418 non-null   object \n",
      " 7   Tipo          3418 non-null   object \n",
      " 8   Mês           3418 non-null   object \n",
      "dtypes: float64(1), int64(1), object(7)\n",
      "memory usage: 267.0+ KB\n"
     ]
    }
   ],
   "source": [
    "DF_COMPRAS_2024_DE_PARA = DF_COMPRAS_2024_DE_PARA[[\n",
    "    \"Valor\",\n",
    "    \"Marca 2024\",\n",
    "    \"Unidade 2024\",\n",
    "    \"Ano\",\n",
    "    \"NO\",\n",
    "    \"Categoria\",\n",
    "    \"Tipo Valor\",\n",
    "    \"Tipo\",\n",
    "    \"Mês\",\n",
    "]]\n",
    "DF_COMPRAS_2024_DE_PARA.info()"
   ]
  },
  {
   "cell_type": "code",
   "execution_count": 146,
   "metadata": {},
   "outputs": [],
   "source": [
    "ATIVOS_ATE_ABRIL = pd.read_excel(\"Ativos até Abril.xlsx\")\n",
    "CONCAT_ATIVOS = pd.concat([ATIVOS_ATE_ABRIL, DF_COMPRAS_2024_DE_PARA], axis=0)"
   ]
  },
  {
   "cell_type": "code",
   "execution_count": 151,
   "metadata": {},
   "outputs": [],
   "source": [
    "BASE_ERROS = pd.concat([BASE_ERROS, CONCAT_ATIVOS.loc[CONCAT_ATIVOS[\"Marca 2024\"].isna()]], axis=0)\n",
    "CONCAT_ATIVOS = CONCAT_ATIVOS.loc[CONCAT_ATIVOS[\"Marca 2024\"].notna()]"
   ]
  },
  {
   "cell_type": "code",
   "execution_count": 152,
   "metadata": {},
   "outputs": [],
   "source": [
    "CONCAT_ATIVOS.to_excel(\"Ativos 2024 (Padronizado).xlsx\", index=False)\n",
    "BASE_ERROS.to_excel(\"Dados a Tratar.xlsx\", index=False)"
   ]
  },
  {
   "cell_type": "code",
   "execution_count": null,
   "metadata": {},
   "outputs": [],
   "source": []
  }
 ],
 "metadata": {
  "kernelspec": {
   "display_name": "base",
   "language": "python",
   "name": "python3"
  },
  "language_info": {
   "codemirror_mode": {
    "name": "ipython",
    "version": 3
   },
   "file_extension": ".py",
   "mimetype": "text/x-python",
   "name": "python",
   "nbconvert_exporter": "python",
   "pygments_lexer": "ipython3",
   "version": "3.12.4"
  }
 },
 "nbformat": 4,
 "nbformat_minor": 2
}

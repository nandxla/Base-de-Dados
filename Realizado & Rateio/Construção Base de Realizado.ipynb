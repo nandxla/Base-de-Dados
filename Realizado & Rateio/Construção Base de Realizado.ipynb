{
 "cells": [
  {
   "cell_type": "code",
   "execution_count": 1,
   "metadata": {},
   "outputs": [],
   "source": [
    "import pandas as pd\n",
    "import numpy as np"
   ]
  },
  {
   "cell_type": "code",
   "execution_count": 2,
   "metadata": {},
   "outputs": [],
   "source": [
    "DF_REALIZADO_2024 = pd.read_excel(\n",
    "    \"https://docs.google.com/spreadsheets/d/1rFuIVjNT6eo5wUr2nL7Y0uvM6r9eXgcaZPrA8Y91OsI/export?=download\",\n",
    "    sheet_name=\"Consolidado Central\",\n",
    "    usecols=[\n",
    "        \"Contrato\",\n",
    "        \"Marca\",\n",
    "        \"Unidade\",\n",
    "        \"Valor\",\n",
    "        \"NO\",\n",
    "        \"Mês\",\n",
    "        \"Nº FLUIG\",\n",
    "    ]\n",
    ")\n",
    "\n",
    "DF_NO_ATUALIZADO = pd.read_excel(\n",
    "    \"https://docs.google.com/spreadsheets/d/1FXJHfBeenCm7kDq-3SpJjuuBY0nXZ2xF-6DTK2HQyaQ/export?=download\",\n",
    "    sheet_name=\"NO\",\n",
    "    usecols=[\n",
    "        \"NO\",\n",
    "        \"NO Ajuste\",\n",
    "        \"Categoria\",\n",
    "        \"Tipo Valor\",\n",
    "    ]\n",
    ")\n",
    "\n",
    "DF_UNIDADES_ATUALIZADAS = pd.read_excel(\n",
    "    \"https://docs.google.com/spreadsheets/d/1FXJHfBeenCm7kDq-3SpJjuuBY0nXZ2xF-6DTK2HQyaQ/export?=download\",\n",
    "    sheet_name=\"Unidades\",\n",
    "    usecols=[\n",
    "        \"Chave 2024\",\n",
    "        \"Núcleo 2024\",\n",
    "        \"Marca 2024\",\n",
    "        \"Unidade 2024\",\n",
    "        \"Regional\",\n",
    "    ]\n",
    ")"
   ]
  },
  {
   "cell_type": "code",
   "execution_count": 48,
   "metadata": {},
   "outputs": [],
   "source": [
    "DF_REALIZADO_2024_COPY = DF_REALIZADO_2024.copy()\n",
    "DF_NO_ATUALIZADO_COPY = DF_NO_ATUALIZADO.copy()\n",
    "DF_UNIDADES_ATUALIZADAS_COPY = DF_UNIDADES_ATUALIZADAS.copy()\n",
    "\n",
    "DF_UNIDADES_ATUALIZADAS_COPY = DF_UNIDADES_ATUALIZADAS_COPY.drop_duplicates()\n",
    "DF_NO_ATUALIZADO_COPY = DF_NO_ATUALIZADO_COPY.drop_duplicates()\n",
    "\n",
    "DF_UNIDADES_ATUALIZADAS_COPY[\"Chave 2024\"] = DF_UNIDADES_ATUALIZADAS_COPY[\"Chave 2024\"].str.lower()"
   ]
  },
  {
   "cell_type": "markdown",
   "metadata": {},
   "source": [
    "# Tratando base de realizado"
   ]
  },
  {
   "cell_type": "code",
   "execution_count": 49,
   "metadata": {},
   "outputs": [],
   "source": [
    "# Separando dois DataFrames, um com erros (Marcas Vazias e Com valores), outro que já está padronizado, com Marcas e Valores\n",
    "DF_ERROS_1 = DF_REALIZADO_2024_COPY.loc[(DF_REALIZADO_2024_COPY[\"Marca\"].isna()) & (DF_REALIZADO_2024_COPY[\"Valor\"] > 0)]\n",
    "DF_REALIZADO_2024_COPY = DF_REALIZADO_2024_COPY.loc[(DF_REALIZADO_2024_COPY[\"Marca\"].notna()) & (DF_REALIZADO_2024_COPY[\"Valor\"] > 0)]"
   ]
  },
  {
   "cell_type": "code",
   "execution_count": 50,
   "metadata": {},
   "outputs": [],
   "source": [
    "# Atualizando Marcas de Elite <UF> para Elite \n",
    "DF_REALIZADO_2024_COPY.loc[DF_REALIZADO_2024_COPY[\"Marca\"].str.startswith(\"Elite\"), \"Marca\"] = \"Elite\""
   ]
  },
  {
   "cell_type": "code",
   "execution_count": 51,
   "metadata": {},
   "outputs": [],
   "source": [
    "# Aplicando o De Para em Marcas, Unidades e Núcleo\n",
    "DF_REALIZADO_2024_COPY[\"Chave 2024\"] = DF_REALIZADO_2024_COPY[\"Marca\"] + DF_REALIZADO_2024_COPY[\"Unidade\"] \n",
    "DF_REALIZADO_2024_COPY[\"Chave 2024\"] = DF_REALIZADO_2024_COPY[\"Chave 2024\"].str.lower() \n",
    "\n",
    "DF_REALIZADO_2024_COPY = pd.merge(DF_REALIZADO_2024_COPY, DF_UNIDADES_ATUALIZADAS_COPY, how=\"left\", on=\"Chave 2024\")"
   ]
  },
  {
   "cell_type": "code",
   "execution_count": 52,
   "metadata": {},
   "outputs": [],
   "source": [
    "DF_ERROS_2 = DF_REALIZADO_2024_COPY.loc[DF_REALIZADO_2024_COPY[\"Marca 2024\"].isna()]\n",
    "DF_REALIZADO_2024_COPY = DF_REALIZADO_2024_COPY.loc[DF_REALIZADO_2024_COPY[\"Marca 2024\"].notna()]"
   ]
  },
  {
   "cell_type": "code",
   "execution_count": 53,
   "metadata": {},
   "outputs": [],
   "source": [
    "DF_REALIZADO_2024_COPY = pd.merge(DF_REALIZADO_2024_COPY, DF_NO_ATUALIZADO_COPY, on=\"NO\", how=\"left\")"
   ]
  },
  {
   "cell_type": "code",
   "execution_count": 54,
   "metadata": {},
   "outputs": [],
   "source": [
    "DF_ERROS_3 = DF_REALIZADO_2024_COPY[DF_REALIZADO_2024_COPY[\"NO Ajuste\"].isna()]\n",
    "DF_REALIZADO_2024_COPY = DF_REALIZADO_2024_COPY[DF_REALIZADO_2024_COPY[\"NO Ajuste\"].notna()]\n",
    "DF_REALIZADO_2024_COPY = DF_REALIZADO_2024_COPY[DF_REALIZADO_2024_COPY[\"NO Ajuste\"] != \"Desativado\"]"
   ]
  },
  {
   "cell_type": "code",
   "execution_count": 55,
   "metadata": {},
   "outputs": [],
   "source": [
    "DF_REALIZADO_2024_COPY[\"Tipo\"] = \"Real\"\n",
    "DF_REALIZADO_2024_COPY[\"Ano\"] = 2024\n",
    "\n",
    "DF_REALIZADO_2024_COPY = DF_REALIZADO_2024_COPY[[\n",
    "    \"Contrato\",\n",
    "    \"Marca 2024\",\n",
    "    \"Unidade 2024\",\n",
    "    \"Mês\",\n",
    "    \"Valor\",\n",
    "    \"NO Ajuste\",\n",
    "    \"Categoria\",\n",
    "    \"Tipo Valor\",\n",
    "    \"Núcleo 2024\",\n",
    "    \"Tipo\",\n",
    "    \"Regional\",\n",
    "    \"Ano\"\n",
    "]]"
   ]
  },
  {
   "cell_type": "code",
   "execution_count": 56,
   "metadata": {},
   "outputs": [
    {
     "data": {
      "text/plain": [
       "77918650.91"
      ]
     },
     "execution_count": 56,
     "metadata": {},
     "output_type": "execute_result"
    }
   ],
   "source": [
    "DF_REALIZADO_2024_COPY[\"Valor\"].sum()"
   ]
  },
  {
   "cell_type": "code",
   "execution_count": 43,
   "metadata": {},
   "outputs": [],
   "source": [
    "DF_ERROS_1.to_excel(\"Valores sem Marca.xlsx\")  # Preencher diretamente na planilha"
   ]
  },
  {
   "cell_type": "code",
   "execution_count": 58,
   "metadata": {},
   "outputs": [
    {
     "data": {
      "text/html": [
       "<div>\n",
       "<style scoped>\n",
       "    .dataframe tbody tr th:only-of-type {\n",
       "        vertical-align: middle;\n",
       "    }\n",
       "\n",
       "    .dataframe tbody tr th {\n",
       "        vertical-align: top;\n",
       "    }\n",
       "\n",
       "    .dataframe thead th {\n",
       "        text-align: right;\n",
       "    }\n",
       "</style>\n",
       "<table border=\"1\" class=\"dataframe\">\n",
       "  <thead>\n",
       "    <tr style=\"text-align: right;\">\n",
       "      <th></th>\n",
       "      <th>Contrato</th>\n",
       "      <th>Marca 2024</th>\n",
       "      <th>Unidade 2024</th>\n",
       "      <th>Mês</th>\n",
       "      <th>Valor</th>\n",
       "      <th>NO Ajuste</th>\n",
       "      <th>Categoria</th>\n",
       "      <th>Tipo Valor</th>\n",
       "      <th>Núcleo 2024</th>\n",
       "      <th>Tipo</th>\n",
       "      <th>Regional</th>\n",
       "      <th>Ano</th>\n",
       "    </tr>\n",
       "  </thead>\n",
       "  <tbody>\n",
       "    <tr>\n",
       "      <th>0</th>\n",
       "      <td>CS0171</td>\n",
       "      <td>Coleguium</td>\n",
       "      <td>Carlos Prates</td>\n",
       "      <td>1.0</td>\n",
       "      <td>41600.00</td>\n",
       "      <td>Obra de Reforma</td>\n",
       "      <td>Infraestrutura</td>\n",
       "      <td>CAPEX</td>\n",
       "      <td>Núcleo Coleguium</td>\n",
       "      <td>Real</td>\n",
       "      <td>1 - SP/MG/ES/PA</td>\n",
       "      <td>2024</td>\n",
       "    </tr>\n",
       "    <tr>\n",
       "      <th>1</th>\n",
       "      <td>CS0172</td>\n",
       "      <td>Coleguium</td>\n",
       "      <td>Gutierrez</td>\n",
       "      <td>1.0</td>\n",
       "      <td>14000.00</td>\n",
       "      <td>Obra de Reforma</td>\n",
       "      <td>Infraestrutura</td>\n",
       "      <td>CAPEX</td>\n",
       "      <td>Núcleo Coleguium</td>\n",
       "      <td>Real</td>\n",
       "      <td>1 - SP/MG/ES/PA</td>\n",
       "      <td>2024</td>\n",
       "    </tr>\n",
       "    <tr>\n",
       "      <th>2</th>\n",
       "      <td>CS0173</td>\n",
       "      <td>Coleguium</td>\n",
       "      <td>Gutierrez</td>\n",
       "      <td>1.0</td>\n",
       "      <td>35200.00</td>\n",
       "      <td>Obra de Reforma</td>\n",
       "      <td>Infraestrutura</td>\n",
       "      <td>CAPEX</td>\n",
       "      <td>Núcleo Coleguium</td>\n",
       "      <td>Real</td>\n",
       "      <td>1 - SP/MG/ES/PA</td>\n",
       "      <td>2024</td>\n",
       "    </tr>\n",
       "    <tr>\n",
       "      <th>3</th>\n",
       "      <td>CS0032</td>\n",
       "      <td>Coleguium</td>\n",
       "      <td>Alípio de Melo</td>\n",
       "      <td>1.0</td>\n",
       "      <td>70500.00</td>\n",
       "      <td>Obra de Reforma</td>\n",
       "      <td>Infraestrutura</td>\n",
       "      <td>CAPEX</td>\n",
       "      <td>Núcleo Coleguium</td>\n",
       "      <td>Real</td>\n",
       "      <td>1 - SP/MG/ES/PA</td>\n",
       "      <td>2024</td>\n",
       "    </tr>\n",
       "    <tr>\n",
       "      <th>4</th>\n",
       "      <td>CS0044</td>\n",
       "      <td>Coleguium</td>\n",
       "      <td>Internacional Belvedere</td>\n",
       "      <td>1.0</td>\n",
       "      <td>21600.00</td>\n",
       "      <td>Obra de Reforma</td>\n",
       "      <td>Infraestrutura</td>\n",
       "      <td>CAPEX</td>\n",
       "      <td>Núcleo Coleguium</td>\n",
       "      <td>Real</td>\n",
       "      <td>1 - SP/MG/ES/PA</td>\n",
       "      <td>2024</td>\n",
       "    </tr>\n",
       "    <tr>\n",
       "      <th>...</th>\n",
       "      <td>...</td>\n",
       "      <td>...</td>\n",
       "      <td>...</td>\n",
       "      <td>...</td>\n",
       "      <td>...</td>\n",
       "      <td>...</td>\n",
       "      <td>...</td>\n",
       "      <td>...</td>\n",
       "      <td>...</td>\n",
       "      <td>...</td>\n",
       "      <td>...</td>\n",
       "      <td>...</td>\n",
       "    </tr>\n",
       "    <tr>\n",
       "      <th>17183</th>\n",
       "      <td>CA1594</td>\n",
       "      <td>Pensi</td>\n",
       "      <td>Campos</td>\n",
       "      <td>6.0</td>\n",
       "      <td>1491.23</td>\n",
       "      <td>Alimentação dos Alunos - Integral</td>\n",
       "      <td>Supply</td>\n",
       "      <td>OPEX</td>\n",
       "      <td>Núcleo Pensi</td>\n",
       "      <td>Real</td>\n",
       "      <td>5 - RJ</td>\n",
       "      <td>2024</td>\n",
       "    </tr>\n",
       "    <tr>\n",
       "      <th>17184</th>\n",
       "      <td>CA1595</td>\n",
       "      <td>Pensi</td>\n",
       "      <td>Campos</td>\n",
       "      <td>6.0</td>\n",
       "      <td>118.12</td>\n",
       "      <td>Alimentação dos Alunos - Integral</td>\n",
       "      <td>Supply</td>\n",
       "      <td>OPEX</td>\n",
       "      <td>Núcleo Pensi</td>\n",
       "      <td>Real</td>\n",
       "      <td>5 - RJ</td>\n",
       "      <td>2024</td>\n",
       "    </tr>\n",
       "    <tr>\n",
       "      <th>17185</th>\n",
       "      <td>CA1596</td>\n",
       "      <td>Pensi</td>\n",
       "      <td>Campos</td>\n",
       "      <td>6.0</td>\n",
       "      <td>69.20</td>\n",
       "      <td>Alimentação dos Alunos - Integral</td>\n",
       "      <td>Supply</td>\n",
       "      <td>OPEX</td>\n",
       "      <td>Núcleo Pensi</td>\n",
       "      <td>Real</td>\n",
       "      <td>5 - RJ</td>\n",
       "      <td>2024</td>\n",
       "    </tr>\n",
       "    <tr>\n",
       "      <th>17186</th>\n",
       "      <td>CA1527</td>\n",
       "      <td>Pensi</td>\n",
       "      <td>Campos</td>\n",
       "      <td>6.0</td>\n",
       "      <td>2395.10</td>\n",
       "      <td>Alimentação dos Alunos - Integral</td>\n",
       "      <td>Supply</td>\n",
       "      <td>OPEX</td>\n",
       "      <td>Núcleo Pensi</td>\n",
       "      <td>Real</td>\n",
       "      <td>5 - RJ</td>\n",
       "      <td>2024</td>\n",
       "    </tr>\n",
       "    <tr>\n",
       "      <th>17187</th>\n",
       "      <td>CA1594</td>\n",
       "      <td>Pensi</td>\n",
       "      <td>Campos</td>\n",
       "      <td>6.0</td>\n",
       "      <td>504.40</td>\n",
       "      <td>Alimentação dos Alunos - Integral</td>\n",
       "      <td>Supply</td>\n",
       "      <td>OPEX</td>\n",
       "      <td>Núcleo Pensi</td>\n",
       "      <td>Real</td>\n",
       "      <td>5 - RJ</td>\n",
       "      <td>2024</td>\n",
       "    </tr>\n",
       "  </tbody>\n",
       "</table>\n",
       "<p>16885 rows × 12 columns</p>\n",
       "</div>"
      ],
      "text/plain": [
       "      Contrato Marca 2024             Unidade 2024  Mês     Valor  \\\n",
       "0       CS0171  Coleguium            Carlos Prates  1.0  41600.00   \n",
       "1       CS0172  Coleguium                Gutierrez  1.0  14000.00   \n",
       "2       CS0173  Coleguium                Gutierrez  1.0  35200.00   \n",
       "3       CS0032  Coleguium           Alípio de Melo  1.0  70500.00   \n",
       "4       CS0044  Coleguium  Internacional Belvedere  1.0  21600.00   \n",
       "...        ...        ...                      ...  ...       ...   \n",
       "17183   CA1594      Pensi                   Campos  6.0   1491.23   \n",
       "17184   CA1595      Pensi                   Campos  6.0    118.12   \n",
       "17185   CA1596      Pensi                   Campos  6.0     69.20   \n",
       "17186   CA1527      Pensi                   Campos  6.0   2395.10   \n",
       "17187   CA1594      Pensi                   Campos  6.0    504.40   \n",
       "\n",
       "                               NO Ajuste       Categoria Tipo Valor  \\\n",
       "0                        Obra de Reforma  Infraestrutura      CAPEX   \n",
       "1                        Obra de Reforma  Infraestrutura      CAPEX   \n",
       "2                        Obra de Reforma  Infraestrutura      CAPEX   \n",
       "3                        Obra de Reforma  Infraestrutura      CAPEX   \n",
       "4                        Obra de Reforma  Infraestrutura      CAPEX   \n",
       "...                                  ...             ...        ...   \n",
       "17183  Alimentação dos Alunos - Integral          Supply       OPEX   \n",
       "17184  Alimentação dos Alunos - Integral          Supply       OPEX   \n",
       "17185  Alimentação dos Alunos - Integral          Supply       OPEX   \n",
       "17186  Alimentação dos Alunos - Integral          Supply       OPEX   \n",
       "17187  Alimentação dos Alunos - Integral          Supply       OPEX   \n",
       "\n",
       "            Núcleo 2024  Tipo         Regional   Ano  \n",
       "0      Núcleo Coleguium  Real  1 - SP/MG/ES/PA  2024  \n",
       "1      Núcleo Coleguium  Real  1 - SP/MG/ES/PA  2024  \n",
       "2      Núcleo Coleguium  Real  1 - SP/MG/ES/PA  2024  \n",
       "3      Núcleo Coleguium  Real  1 - SP/MG/ES/PA  2024  \n",
       "4      Núcleo Coleguium  Real  1 - SP/MG/ES/PA  2024  \n",
       "...                 ...   ...              ...   ...  \n",
       "17183      Núcleo Pensi  Real           5 - RJ  2024  \n",
       "17184      Núcleo Pensi  Real           5 - RJ  2024  \n",
       "17185      Núcleo Pensi  Real           5 - RJ  2024  \n",
       "17186      Núcleo Pensi  Real           5 - RJ  2024  \n",
       "17187      Núcleo Pensi  Real           5 - RJ  2024  \n",
       "\n",
       "[16885 rows x 12 columns]"
      ]
     },
     "execution_count": 58,
     "metadata": {},
     "output_type": "execute_result"
    }
   ],
   "source": [
    "DF_REALIZADO_2024_COPY"
   ]
  },
  {
   "cell_type": "code",
   "execution_count": 59,
   "metadata": {},
   "outputs": [
    {
     "data": {
      "text/plain": [
       "array(['Aluguel de Equipamentos', 'Multas Operacionais - Infração',\n",
       "       'Consultoria não Recorrente', 'manut. predial corretiva',\n",
       "       'Outras Despesas', 'Obra de Reforma|saldo 2023',\n",
       "       'Água e Esgoto - ISA',\n",
       "       'Obra de Reforma - Lista Manutenção Conservação Julho/24',\n",
       "       'Apoio e Patrocínio', 'Outros - Mat. de Operação',\n",
       "       'Obra de reforma'], dtype=object)"
      ]
     },
     "execution_count": 59,
     "metadata": {},
     "output_type": "execute_result"
    }
   ],
   "source": [
    "DF_ERROS_3[\"NO\"].unique()"
   ]
  },
  {
   "cell_type": "code",
   "execution_count": 65,
   "metadata": {},
   "outputs": [
    {
     "data": {
      "text/plain": [
       "{'45429tijuca 1',\n",
       " 'alfacascavel',\n",
       " 'alfasjp - ambiental',\n",
       " 'coleguiumbh savassi',\n",
       " 'coleguiumcidade nova',\n",
       " 'elitebotafogo',\n",
       " 'elitecentral',\n",
       " 'elitemadureira',\n",
       " 'eliteméier',\n",
       " 'elitepato branco 2',\n",
       " 'eliteshopping guadalupe',\n",
       " 'elitetijuca 1',\n",
       " 'holdingtijuca',\n",
       " 'idealguará',\n",
       " 'idealáguas claras',\n",
       " 'núcleo coleguiumcarlos prates',\n",
       " 'núcleo elitebarra',\n",
       " 'núcleo elitetijuca 1',\n",
       " 'pensibotafogo',\n",
       " 'pensiicaraí',\n",
       " 'pensiiguaçuano',\n",
       " 'pensinilópolis',\n",
       " 'pensirealengo',\n",
       " 'pensirecreio',\n",
       " 'pensisão joão de meriti',\n",
       " 'pensitijuca',\n",
       " 'pensivila valqueire',\n",
       " 'phalpha campos dos goytacazes',\n",
       " 'phitaipu',\n",
       " 'phrecreio 1',\n",
       " 'phtijuca',\n",
       " 'phtrês rios'}"
      ]
     },
     "execution_count": 65,
     "metadata": {},
     "output_type": "execute_result"
    }
   ],
   "source": [
    "set([i for i in DF_ERROS_2[\"Chave 2024\"].unique() if \"definir\" not in i])"
   ]
  },
  {
   "cell_type": "code",
   "execution_count": 69,
   "metadata": {},
   "outputs": [],
   "source": [
    "DF_REALIZADO_2024_COPY.to_excel(\"Realizado Atualizado.xlsx\", index=False)"
   ]
  },
  {
   "cell_type": "code",
   "execution_count": null,
   "metadata": {},
   "outputs": [],
   "source": []
  }
 ],
 "metadata": {
  "kernelspec": {
   "display_name": "Python 3",
   "language": "python",
   "name": "python3"
  },
  "language_info": {
   "codemirror_mode": {
    "name": "ipython",
    "version": 3
   },
   "file_extension": ".py",
   "mimetype": "text/x-python",
   "name": "python",
   "nbconvert_exporter": "python",
   "pygments_lexer": "ipython3",
   "version": "3.11.5"
  }
 },
 "nbformat": 4,
 "nbformat_minor": 2
}

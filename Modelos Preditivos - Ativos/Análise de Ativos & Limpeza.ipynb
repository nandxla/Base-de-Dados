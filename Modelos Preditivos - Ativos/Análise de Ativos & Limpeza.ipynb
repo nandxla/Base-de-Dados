{
 "cells": [
  {
   "cell_type": "code",
   "execution_count": 2,
   "metadata": {},
   "outputs": [],
   "source": [
    "import pandas as pd\n",
    "import numpy as np"
   ]
  },
  {
   "cell_type": "markdown",
   "metadata": {},
   "source": [
    "# Importação e Cópia\n",
    "Estou importando os dados diretamente do Gsheet, e na célula seguinte fazendo a cópia dos dataframes. A cópia serve para não ter o trabalho de importar dataframe da nuvem novamente."
   ]
  },
  {
   "cell_type": "code",
   "execution_count": 3,
   "metadata": {},
   "outputs": [
    {
     "name": "stderr",
     "output_type": "stream",
     "text": [
      "c:\\Users\\fernando.luiz\\AppData\\Local\\anaconda3\\Lib\\site-packages\\openpyxl\\worksheet\\_read_only.py:79: UserWarning: Cell E1954 is marked as a date but the serial value 6692727.0 is outside the limits for dates. The cell will be treated as an error.\n",
      "  for idx, row in parser.parse():\n"
     ]
    }
   ],
   "source": [
    "DF_COMPRAS_2024 = pd.read_excel(\n",
    "    \"https://docs.google.com/spreadsheets/d/117UmGO31yywC6mucCwMFPmnQcg1kRI5WVRR1Cvpb6l8/export?format=xlsx&id=117UmGO31yywC6mucCwMFPmnQcg1kRI5WVRR1Cvpb6l8\",\n",
    "    sheet_name=\"Lançamento de NF Não Recorrente\",\n",
    "    usecols=[\n",
    "        \"Marca\",\n",
    "        \"Unidade\",\n",
    "        \"Item\",\n",
    "        \"Valor Corrigido\",\n",
    "        \"Mês Corrigido\",\n",
    "    ]\n",
    ")\n",
    "\n",
    "DF_DE_PARA_OFC = pd.read_excel(\n",
    "    'https://docs.google.com/spreadsheets/d/1FXJHfBeenCm7kDq-3SpJjuuBY0nXZ2xF-6DTK2HQyaQ/export?=format=xlsx&id=1FXJHfBeenCm7kDq-3SpJjuuBY0nXZ2xF-6DTK2HQyaQ', \n",
    "    sheet_name=\"Unidades\",\n",
    "    usecols=[\n",
    "        \"Chave 2024\",\n",
    "        \"Marca 2024\",\n",
    "        \"Unidade 2024\"\n",
    "    ]\n",
    ")"
   ]
  },
  {
   "cell_type": "code",
   "execution_count": 4,
   "metadata": {},
   "outputs": [],
   "source": [
    "DF_COMPRAS_2024_COPY = DF_COMPRAS_2024.copy()\n",
    "DF_DE_PARA_OFC_COPY = DF_DE_PARA_OFC.copy()"
   ]
  },
  {
   "cell_type": "markdown",
   "metadata": {},
   "source": [
    "# Correção do Mês\n",
    "Aqui estou covertendo os meses faltantes pelo mês atual, e não só isso, convertendo os valores para inteiro."
   ]
  },
  {
   "cell_type": "code",
   "execution_count": 5,
   "metadata": {},
   "outputs": [],
   "source": [
    "from datetime import datetime\n",
    "\n",
    "DF_COMPRAS_2024_COPY[\"Mês Corrigido\"] = pd.to_numeric(DF_COMPRAS_2024_COPY[\"Mês Corrigido\"], \"coerce\")\n",
    "DF_COMPRAS_2024_COPY[\"Mês Corrigido\"] = DF_COMPRAS_2024_COPY[\"Mês Corrigido\"].fillna(0)\n",
    "DF_COMPRAS_2024_COPY[\"Mês Corrigido\"] = DF_COMPRAS_2024_COPY[\"Mês Corrigido\"].astype(\"int\")\n",
    "DF_COMPRAS_2024_COPY.loc[DF_COMPRAS_2024_COPY[\"Mês Corrigido\"] == 0, \"Mês Corrigido\"] = datetime.now().month"
   ]
  },
  {
   "cell_type": "markdown",
   "metadata": {},
   "source": [
    "# Correção de Marca e Unidade\n",
    "Agora, vamos atualizar a marca e unidade para os nomes de 2024, nesse processo estou fazendo:\n",
    "- Retirandos os dados faltantes\n",
    "- Aplicando função ```stip()``` na Marca e Unidade, para retirar os espaços em branco\n",
    "- Criando uma coluna apenas com a Unidade\n",
    "- Criando a Chave 2024\n",
    "- Aplicando o DePara e puxando as Marcas e Unidades atualizadas"
   ]
  },
  {
   "cell_type": "code",
   "execution_count": 6,
   "metadata": {},
   "outputs": [],
   "source": [
    "DF_COMPRAS_2024_COPY = DF_COMPRAS_2024_COPY[DF_COMPRAS_2024_COPY[\"Marca\"].notna()]\n",
    "DF_COMPRAS_2024_COPY = DF_COMPRAS_2024_COPY[DF_COMPRAS_2024_COPY[\"Unidade\"].notna()]\n",
    "\n",
    "DF_DE_PARA_OFC_COPY = DF_DE_PARA_OFC_COPY[DF_DE_PARA_OFC_COPY[\"Chave 2024\"].notna()]\n",
    "DF_DE_PARA_OFC_COPY = DF_DE_PARA_OFC_COPY.drop_duplicates()\n",
    "\n",
    "DF_COMPRAS_2024_COPY[\"Marca\"] = DF_COMPRAS_2024_COPY.apply(lambda x: x[\"Marca\"].strip(), axis=1)\n",
    "DF_COMPRAS_2024_COPY[\"Unidade\"] = DF_COMPRAS_2024_COPY.apply(lambda x: x[\"Unidade\"].strip(), axis=1)\n",
    "\n",
    "DF_COMPRAS_2024_COPY[\"Unidade Atualizada\"] = DF_COMPRAS_2024_COPY.apply(lambda row: row[\"Unidade\"].replace(f\"{row['Marca']} \", \"\"), axis=1)\n",
    "DF_COMPRAS_2024_COPY[\"Chave 2024\"] = DF_COMPRAS_2024_COPY[\"Marca\"] + DF_COMPRAS_2024_COPY[\"Unidade Atualizada\"] \n",
    "\n",
    "DF_COMPRAS_2024_COPY = DF_COMPRAS_2024_COPY.loc[(DF_COMPRAS_2024_COPY[\"Marca\"] != \"NUs\")]\n",
    "DF_COMPRAS_2024_COPY = DF_COMPRAS_2024_COPY.loc[(DF_COMPRAS_2024_COPY[\"Marca\"] != \"Visita BE\")]\n",
    "DF_COMPRAS_2024_COPY = DF_COMPRAS_2024_COPY.loc[(DF_COMPRAS_2024_COPY[\"Marca\"] != \"Salta\")]\n",
    "\n",
    "DF_COMPRAS_2024_DE_PARA = pd.merge(DF_COMPRAS_2024_COPY, DF_DE_PARA_OFC_COPY, on=\"Chave 2024\", how=\"left\")"
   ]
  },
  {
   "cell_type": "markdown",
   "metadata": {},
   "source": [
    "# Dividindo o DataFrame\n",
    "Nesse momento estou divindo meu DataFrame em dois, um com os erros, no qual vou tratar e unir novamente ao dataset original."
   ]
  },
  {
   "cell_type": "code",
   "execution_count": 7,
   "metadata": {},
   "outputs": [],
   "source": [
    "DF_ERROS = DF_COMPRAS_2024_DE_PARA[DF_COMPRAS_2024_DE_PARA[\"Marca 2024\"].isna()]\n",
    "DF_COMPRAS_2024_DE_PARA = DF_COMPRAS_2024_DE_PARA[DF_COMPRAS_2024_DE_PARA[\"Marca 2024\"].notna()]"
   ]
  },
  {
   "cell_type": "code",
   "execution_count": 8,
   "metadata": {},
   "outputs": [],
   "source": [
    "DF_ERROS[\"Marca\"] = DF_ERROS.apply(lambda x: x[\"Unidade\"].split(\" \")[0], axis=1)\n",
    "\n",
    "DF_ERROS[\"Unidade Atualizada\"] = DF_ERROS.apply(lambda row: row[\"Unidade\"].replace(f\"{row['Marca']} \", \"\"), axis=1)\n",
    "DF_ERROS[\"Chave 2024\"] = DF_ERROS[\"Marca\"] + DF_ERROS[\"Unidade Atualizada\"]\n",
    "DF_ERROS.drop(columns=[\n",
    "    \"Marca 2024\",\n",
    "    \"Unidade 2024\",\n",
    "], inplace=True)\n",
    "\n",
    "DF_ERROS = pd.merge(DF_ERROS, DF_DE_PARA_OFC_COPY, on=\"Chave 2024\", how=\"left\")"
   ]
  },
  {
   "cell_type": "markdown",
   "metadata": {},
   "source": [
    "# Unindo as Bases de Dados"
   ]
  },
  {
   "cell_type": "code",
   "execution_count": 9,
   "metadata": {},
   "outputs": [],
   "source": [
    "DF_COMPRAS_2024_DE_PARA = DF_COMPRAS_2024_DE_PARA[[\n",
    "    \"Marca 2024\",\n",
    "    \"Unidade 2024\",\n",
    "    \"Valor Corrigido\",\n",
    "    \"Mês Corrigido\",\n",
    "    \"Item\",\n",
    "]]\n",
    "\n",
    "DF_COMPRAS_2024_DE_PARA[\"Ano\"] = 2024\n",
    "DF_COMPRAS_2024_DE_PARA[\"NO\"] = \"Ativos\"\n",
    "DF_COMPRAS_2024_DE_PARA[\"Categoria\"] = \"Supply\"\n",
    "DF_COMPRAS_2024_DE_PARA[\"Tipo Valor\"] = \"Capex\"\n",
    "DF_COMPRAS_2024_DE_PARA[\"Tipo\"] = \"Real\"\n",
    "\n",
    "DF_ERROS_ATUALIZADOS = DF_ERROS[DF_ERROS[\"Marca 2024\"].notna()]\n",
    "DF_ERROS_ATUALIZADOS = DF_ERROS_ATUALIZADOS[[\n",
    "    \"Marca 2024\",\n",
    "    \"Unidade 2024\",\n",
    "    \"Valor Corrigido\",\n",
    "    \"Mês Corrigido\",\n",
    "    \"Item\",\n",
    "]]\n",
    "\n",
    "DF_ERROS_ATUALIZADOS[\"Ano\"] = 2024\n",
    "DF_ERROS_ATUALIZADOS[\"NO\"] = \"Ativos\"\n",
    "DF_ERROS_ATUALIZADOS[\"Categoria\"] = \"Supply\"\n",
    "DF_ERROS_ATUALIZADOS[\"Tipo Valor\"] = \"Capex\"\n",
    "DF_ERROS_ATUALIZADOS[\"Tipo\"] = \"Real\"\n",
    "\n",
    "DF_COMPRAS_2024_DE_PARA = DF_COMPRAS_2024_DE_PARA[[\n",
    "    \"Valor Corrigido\",\n",
    "    \"Marca 2024\",\n",
    "    \"Unidade 2024\",\n",
    "    \"Ano\",\n",
    "    \"NO\",\n",
    "    \"Categoria\",\n",
    "    \"Tipo Valor\",\n",
    "    \"Tipo\",\n",
    "    \"Mês Corrigido\",\n",
    "    \"Item\"\n",
    "]]\n",
    "\n",
    "DF_ERROS_ATUALIZADOS = DF_ERROS_ATUALIZADOS[[\n",
    "    \"Valor Corrigido\",\n",
    "    \"Marca 2024\",\n",
    "    \"Unidade 2024\",\n",
    "    \"Ano\",\n",
    "    \"NO\",\n",
    "    \"Categoria\",\n",
    "    \"Tipo Valor\",\n",
    "    \"Tipo\",\n",
    "    \"Mês Corrigido\",\n",
    "    \"Item\", \n",
    "]]"
   ]
  },
  {
   "cell_type": "code",
   "execution_count": 10,
   "metadata": {},
   "outputs": [
    {
     "data": {
      "text/plain": [
       "10767630.23"
      ]
     },
     "execution_count": 10,
     "metadata": {},
     "output_type": "execute_result"
    }
   ],
   "source": [
    "DF_ATIVOS = pd.concat([DF_COMPRAS_2024_DE_PARA, DF_ERROS_ATUALIZADOS], axis=0)\n",
    "DF_ATIVOS[\"Valor Corrigido\"].sum() "
   ]
  },
  {
   "cell_type": "code",
   "execution_count": 11,
   "metadata": {},
   "outputs": [],
   "source": [
    "DF_ATIVOS[\"Item\"] = DF_ATIVOS[\"Item\"].str.lower().str.strip()"
   ]
  },
  {
   "cell_type": "code",
   "execution_count": 13,
   "metadata": {},
   "outputs": [],
   "source": [
    "import nltk\n",
    "\n",
    "from nltk.tokenize import word_tokenize\n",
    "from nltk.corpus import stopwords"
   ]
  },
  {
   "cell_type": "code",
   "execution_count": 14,
   "metadata": {},
   "outputs": [
    {
     "name": "stderr",
     "output_type": "stream",
     "text": [
      "[nltk_data] Downloading package stopwords to\n",
      "[nltk_data]     C:\\Users\\fernando.luiz\\AppData\\Roaming\\nltk_data...\n",
      "[nltk_data]   Package stopwords is already up-to-date!\n",
      "[nltk_data] Downloading package punkt to\n",
      "[nltk_data]     C:\\Users\\fernando.luiz\\AppData\\Roaming\\nltk_data...\n",
      "[nltk_data]   Package punkt is already up-to-date!\n"
     ]
    },
    {
     "data": {
      "text/plain": [
       "True"
      ]
     },
     "execution_count": 14,
     "metadata": {},
     "output_type": "execute_result"
    }
   ],
   "source": [
    "nltk.download(\"stopwords\")\n",
    "nltk.download(\"punkt\")"
   ]
  },
  {
   "cell_type": "code",
   "execution_count": 17,
   "metadata": {},
   "outputs": [],
   "source": [
    "DF_ATIVOS = DF_ATIVOS[DF_ATIVOS[\"Item\"].notna()]"
   ]
  },
  {
   "cell_type": "code",
   "execution_count": 22,
   "metadata": {},
   "outputs": [
    {
     "name": "stderr",
     "output_type": "stream",
     "text": [
      "C:\\Users\\fernando.luiz\\AppData\\Local\\Temp\\ipykernel_3300\\939247097.py:1: SettingWithCopyWarning: \n",
      "A value is trying to be set on a copy of a slice from a DataFrame.\n",
      "Try using .loc[row_indexer,col_indexer] = value instead\n",
      "\n",
      "See the caveats in the documentation: https://pandas.pydata.org/pandas-docs/stable/user_guide/indexing.html#returning-a-view-versus-a-copy\n",
      "  DF_ATIVOS[\"Token Item\"] = DF_ATIVOS[\"Item\"].apply(word_tokenize)\n"
     ]
    }
   ],
   "source": [
    "DF_ATIVOS[\"Token Item\"] = DF_ATIVOS[\"Item\"].apply(word_tokenize) "
   ]
  },
  {
   "cell_type": "code",
   "execution_count": 27,
   "metadata": {},
   "outputs": [
    {
     "name": "stderr",
     "output_type": "stream",
     "text": [
      "C:\\Users\\fernando.luiz\\AppData\\Local\\Temp\\ipykernel_3300\\2926019025.py:2: SettingWithCopyWarning: \n",
      "A value is trying to be set on a copy of a slice from a DataFrame.\n",
      "Try using .loc[row_indexer,col_indexer] = value instead\n",
      "\n",
      "See the caveats in the documentation: https://pandas.pydata.org/pandas-docs/stable/user_guide/indexing.html#returning-a-view-versus-a-copy\n",
      "  DF_ATIVOS[\"Token Item\"] = DF_ATIVOS[\"Token Item\"].apply(lambda x: [word for word in x if word not in list_stopwords])\n"
     ]
    }
   ],
   "source": [
    "list_stopwords = set(stopwords.words(\"portuguese\"))\n",
    "DF_ATIVOS[\"Token Item\"] = DF_ATIVOS[\"Token Item\"].apply(lambda x: [word for word in x if word not in list_stopwords])"
   ]
  },
  {
   "cell_type": "code",
   "execution_count": 30,
   "metadata": {},
   "outputs": [
    {
     "name": "stderr",
     "output_type": "stream",
     "text": [
      "C:\\Users\\fernando.luiz\\AppData\\Local\\Temp\\ipykernel_3300\\2112285845.py:1: SettingWithCopyWarning: \n",
      "A value is trying to be set on a copy of a slice from a DataFrame.\n",
      "Try using .loc[row_indexer,col_indexer] = value instead\n",
      "\n",
      "See the caveats in the documentation: https://pandas.pydata.org/pandas-docs/stable/user_guide/indexing.html#returning-a-view-versus-a-copy\n",
      "  DF_ATIVOS[\"Token Item\"] = DF_ATIVOS[\"Token Item\"].apply(lambda x: [word for word in x if word.isalpha()])\n"
     ]
    }
   ],
   "source": [
    "DF_ATIVOS[\"Token Item\"] = DF_ATIVOS[\"Token Item\"].apply(lambda x: [word for word in x if word.isalpha()])\n"
   ]
  },
  {
   "cell_type": "code",
   "execution_count": 35,
   "metadata": {},
   "outputs": [],
   "source": [
    "list_all_itens = []\n",
    "\n",
    "for lista in DF_ATIVOS[\"Token Item\"]:\n",
    "    list_all_itens += lista"
   ]
  },
  {
   "cell_type": "code",
   "execution_count": 43,
   "metadata": {},
   "outputs": [
    {
     "data": {
      "text/plain": [
       "Item\n",
       "mat          257\n",
       "móveis       233\n",
       "esportivo    230\n",
       "mobílias     226\n",
       "mesa         157\n",
       "            ... \n",
       "rodrigo        1\n",
       "chedid         1\n",
       "pinote         1\n",
       "fracote        1\n",
       "kits           1\n",
       "Name: count, Length: 1707, dtype: int64"
      ]
     },
     "execution_count": 43,
     "metadata": {},
     "output_type": "execute_result"
    },
    {
     "ename": "",
     "evalue": "",
     "output_type": "error",
     "traceback": [
      "\u001b[1;31mThe Kernel crashed while executing code in the current cell or a previous cell. \n",
      "\u001b[1;31mPlease review the code in the cell(s) to identify a possible cause of the failure. \n",
      "\u001b[1;31mClick <a href='https://aka.ms/vscodeJupyterKernelCrash'>here</a> for more info. \n",
      "\u001b[1;31mView Jupyter <a href='command:jupyter.viewOutput'>log</a> for further details."
     ]
    }
   ],
   "source": [
    "df_item = pd.DataFrame(list_all_itens)\n",
    "df_item.columns = [\"Item\"]\n",
    "df_item[\"Item\"].value_counts()"
   ]
  },
  {
   "cell_type": "code",
   "execution_count": 32,
   "metadata": {},
   "outputs": [
    {
     "data": {
      "text/html": [
       "<div>\n",
       "<style scoped>\n",
       "    .dataframe tbody tr th:only-of-type {\n",
       "        vertical-align: middle;\n",
       "    }\n",
       "\n",
       "    .dataframe tbody tr th {\n",
       "        vertical-align: top;\n",
       "    }\n",
       "\n",
       "    .dataframe thead th {\n",
       "        text-align: right;\n",
       "    }\n",
       "</style>\n",
       "<table border=\"1\" class=\"dataframe\">\n",
       "  <thead>\n",
       "    <tr style=\"text-align: right;\">\n",
       "      <th></th>\n",
       "      <th>Valor Corrigido</th>\n",
       "      <th>Marca 2024</th>\n",
       "      <th>Unidade 2024</th>\n",
       "      <th>Ano</th>\n",
       "      <th>NO</th>\n",
       "      <th>Categoria</th>\n",
       "      <th>Tipo Valor</th>\n",
       "      <th>Tipo</th>\n",
       "      <th>Mês Corrigido</th>\n",
       "      <th>Item</th>\n",
       "      <th>Token Item</th>\n",
       "    </tr>\n",
       "  </thead>\n",
       "  <tbody>\n",
       "    <tr>\n",
       "      <th>0</th>\n",
       "      <td>106020.0</td>\n",
       "      <td>Anglo Alante</td>\n",
       "      <td>São José dos Campos</td>\n",
       "      <td>2024</td>\n",
       "      <td>Ativos</td>\n",
       "      <td>Supply</td>\n",
       "      <td>Capex</td>\n",
       "      <td>Real</td>\n",
       "      <td>11</td>\n",
       "      <td>carteiras diversas</td>\n",
       "      <td>[carteiras, diversas]</td>\n",
       "    </tr>\n",
       "    <tr>\n",
       "      <th>1</th>\n",
       "      <td>40423.0</td>\n",
       "      <td>Elite</td>\n",
       "      <td>Idesa Taubaté</td>\n",
       "      <td>2024</td>\n",
       "      <td>Ativos</td>\n",
       "      <td>Supply</td>\n",
       "      <td>Capex</td>\n",
       "      <td>Real</td>\n",
       "      <td>11</td>\n",
       "      <td>1 carteira pne / 100 carteira univer. bm2002</td>\n",
       "      <td>[carteira, pne, carteira, univer]</td>\n",
       "    </tr>\n",
       "    <tr>\n",
       "      <th>2</th>\n",
       "      <td>15146.0</td>\n",
       "      <td>Elite</td>\n",
       "      <td>Idesa Taubaté</td>\n",
       "      <td>2024</td>\n",
       "      <td>Ativos</td>\n",
       "      <td>Supply</td>\n",
       "      <td>Capex</td>\n",
       "      <td>Real</td>\n",
       "      <td>11</td>\n",
       "      <td>quadro gestão / mural de aviso / quadro 400x120</td>\n",
       "      <td>[quadro, gestão, mural, aviso, quadro]</td>\n",
       "    </tr>\n",
       "    <tr>\n",
       "      <th>3</th>\n",
       "      <td>21530.0</td>\n",
       "      <td>Anglo Alante</td>\n",
       "      <td>São José dos Campos</td>\n",
       "      <td>2024</td>\n",
       "      <td>Ativos</td>\n",
       "      <td>Supply</td>\n",
       "      <td>Capex</td>\n",
       "      <td>Real</td>\n",
       "      <td>11</td>\n",
       "      <td>projetores epson</td>\n",
       "      <td>[projetores, epson]</td>\n",
       "    </tr>\n",
       "    <tr>\n",
       "      <th>5</th>\n",
       "      <td>11800.0</td>\n",
       "      <td>Anglo Alante</td>\n",
       "      <td>São José dos Campos</td>\n",
       "      <td>2024</td>\n",
       "      <td>Ativos</td>\n",
       "      <td>Supply</td>\n",
       "      <td>Capex</td>\n",
       "      <td>Real</td>\n",
       "      <td>11</td>\n",
       "      <td>bebedouro</td>\n",
       "      <td>[bebedouro]</td>\n",
       "    </tr>\n",
       "    <tr>\n",
       "      <th>...</th>\n",
       "      <td>...</td>\n",
       "      <td>...</td>\n",
       "      <td>...</td>\n",
       "      <td>...</td>\n",
       "      <td>...</td>\n",
       "      <td>...</td>\n",
       "      <td>...</td>\n",
       "      <td>...</td>\n",
       "      <td>...</td>\n",
       "      <td>...</td>\n",
       "      <td>...</td>\n",
       "    </tr>\n",
       "    <tr>\n",
       "      <th>17</th>\n",
       "      <td>8560.0</td>\n",
       "      <td>pH</td>\n",
       "      <td>Freguesia</td>\n",
       "      <td>2024</td>\n",
       "      <td>Ativos</td>\n",
       "      <td>Supply</td>\n",
       "      <td>Capex</td>\n",
       "      <td>Real</td>\n",
       "      <td>1</td>\n",
       "      <td>móveis tramontina</td>\n",
       "      <td>[móveis, tramontina]</td>\n",
       "    </tr>\n",
       "    <tr>\n",
       "      <th>18</th>\n",
       "      <td>6136.0</td>\n",
       "      <td>pH</td>\n",
       "      <td>Freguesia</td>\n",
       "      <td>2024</td>\n",
       "      <td>Ativos</td>\n",
       "      <td>Supply</td>\n",
       "      <td>Capex</td>\n",
       "      <td>Real</td>\n",
       "      <td>1</td>\n",
       "      <td>móveis</td>\n",
       "      <td>[móveis]</td>\n",
       "    </tr>\n",
       "    <tr>\n",
       "      <th>19</th>\n",
       "      <td>3699.0</td>\n",
       "      <td>Coleguium</td>\n",
       "      <td>Nova Suíça</td>\n",
       "      <td>2024</td>\n",
       "      <td>Ativos</td>\n",
       "      <td>Supply</td>\n",
       "      <td>Capex</td>\n",
       "      <td>Real</td>\n",
       "      <td>1</td>\n",
       "      <td>caixa de som bluetooth</td>\n",
       "      <td>[caixa, som, bluetooth]</td>\n",
       "    </tr>\n",
       "    <tr>\n",
       "      <th>20</th>\n",
       "      <td>3699.0</td>\n",
       "      <td>Coleguium</td>\n",
       "      <td>Nova Suíça</td>\n",
       "      <td>2024</td>\n",
       "      <td>Ativos</td>\n",
       "      <td>Supply</td>\n",
       "      <td>Capex</td>\n",
       "      <td>Real</td>\n",
       "      <td>1</td>\n",
       "      <td>caixa de som bluetooth</td>\n",
       "      <td>[caixa, som, bluetooth]</td>\n",
       "    </tr>\n",
       "    <tr>\n",
       "      <th>24</th>\n",
       "      <td>1206.0</td>\n",
       "      <td>CEI</td>\n",
       "      <td>Zona Sul</td>\n",
       "      <td>2024</td>\n",
       "      <td>Ativos</td>\n",
       "      <td>Supply</td>\n",
       "      <td>Capex</td>\n",
       "      <td>Real</td>\n",
       "      <td>1</td>\n",
       "      <td>1 cafeteira industrial</td>\n",
       "      <td>[cafeteira, industrial]</td>\n",
       "    </tr>\n",
       "  </tbody>\n",
       "</table>\n",
       "<p>3108 rows × 11 columns</p>\n",
       "</div>"
      ],
      "text/plain": [
       "    Valor Corrigido    Marca 2024         Unidade 2024   Ano      NO  \\\n",
       "0          106020.0  Anglo Alante  São José dos Campos  2024  Ativos   \n",
       "1           40423.0         Elite        Idesa Taubaté  2024  Ativos   \n",
       "2           15146.0         Elite        Idesa Taubaté  2024  Ativos   \n",
       "3           21530.0  Anglo Alante  São José dos Campos  2024  Ativos   \n",
       "5           11800.0  Anglo Alante  São José dos Campos  2024  Ativos   \n",
       "..              ...           ...                  ...   ...     ...   \n",
       "17           8560.0            pH            Freguesia  2024  Ativos   \n",
       "18           6136.0            pH            Freguesia  2024  Ativos   \n",
       "19           3699.0     Coleguium           Nova Suíça  2024  Ativos   \n",
       "20           3699.0     Coleguium           Nova Suíça  2024  Ativos   \n",
       "24           1206.0           CEI             Zona Sul  2024  Ativos   \n",
       "\n",
       "   Categoria Tipo Valor  Tipo  Mês Corrigido  \\\n",
       "0     Supply      Capex  Real             11   \n",
       "1     Supply      Capex  Real             11   \n",
       "2     Supply      Capex  Real             11   \n",
       "3     Supply      Capex  Real             11   \n",
       "5     Supply      Capex  Real             11   \n",
       "..       ...        ...   ...            ...   \n",
       "17    Supply      Capex  Real              1   \n",
       "18    Supply      Capex  Real              1   \n",
       "19    Supply      Capex  Real              1   \n",
       "20    Supply      Capex  Real              1   \n",
       "24    Supply      Capex  Real              1   \n",
       "\n",
       "                                               Item  \\\n",
       "0                                carteiras diversas   \n",
       "1      1 carteira pne / 100 carteira univer. bm2002   \n",
       "2   quadro gestão / mural de aviso / quadro 400x120   \n",
       "3                                  projetores epson   \n",
       "5                                         bebedouro   \n",
       "..                                              ...   \n",
       "17                                móveis tramontina   \n",
       "18                                           móveis   \n",
       "19                           caixa de som bluetooth   \n",
       "20                           caixa de som bluetooth   \n",
       "24                           1 cafeteira industrial   \n",
       "\n",
       "                                Token Item  \n",
       "0                    [carteiras, diversas]  \n",
       "1        [carteira, pne, carteira, univer]  \n",
       "2   [quadro, gestão, mural, aviso, quadro]  \n",
       "3                      [projetores, epson]  \n",
       "5                              [bebedouro]  \n",
       "..                                     ...  \n",
       "17                    [móveis, tramontina]  \n",
       "18                                [móveis]  \n",
       "19                 [caixa, som, bluetooth]  \n",
       "20                 [caixa, som, bluetooth]  \n",
       "24                 [cafeteira, industrial]  \n",
       "\n",
       "[3108 rows x 11 columns]"
      ]
     },
     "execution_count": 32,
     "metadata": {},
     "output_type": "execute_result"
    }
   ],
   "source": [
    "DF_ATIVOS"
   ]
  },
  {
   "cell_type": "code",
   "execution_count": null,
   "metadata": {},
   "outputs": [],
   "source": []
  }
 ],
 "metadata": {
  "kernelspec": {
   "display_name": "Python 3",
   "language": "python",
   "name": "python3"
  },
  "language_info": {
   "codemirror_mode": {
    "name": "ipython",
    "version": 3
   },
   "file_extension": ".py",
   "mimetype": "text/x-python",
   "name": "python",
   "nbconvert_exporter": "python",
   "pygments_lexer": "ipython3",
   "version": "3.11.5"
  }
 },
 "nbformat": 4,
 "nbformat_minor": 2
}
